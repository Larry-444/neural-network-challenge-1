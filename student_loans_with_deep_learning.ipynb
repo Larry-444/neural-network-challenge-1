{
  "cells": [
    {
      "cell_type": "markdown",
      "metadata": {
        "id": "T7ZNhGcW6q6r"
      },
      "source": [
        "# Student Loan Risk with Deep Learning"
      ]
    },
    {
      "cell_type": "code",
      "execution_count": 98,
      "metadata": {
        "id": "0otrXpJc6q6u"
      },
      "outputs": [],
      "source": [
        "# Imports\n",
        "import pandas as pd\n",
        "import tensorflow as tf\n",
        "from tensorflow.keras.layers import Dense\n",
        "from tensorflow.keras.models import Sequential\n",
        "from tensorflow.keras.models import load_model\n",
        "from sklearn.model_selection import train_test_split\n",
        "from sklearn.preprocessing import StandardScaler\n",
        "from sklearn.metrics import classification_report\n",
        "from pathlib import Path\n",
        "import numpy as np"
      ]
    },
    {
      "cell_type": "markdown",
      "metadata": {
        "id": "OpV4Y-3Z6q6w"
      },
      "source": [
        "---\n",
        "\n",
        "## Prepare the data to be used on a neural network model"
      ]
    },
    {
      "cell_type": "markdown",
      "metadata": {
        "id": "TUuSzp2l6q6w"
      },
      "source": [
        "### Step 1: Read the `student-loans.csv` file into a Pandas DataFrame. Review the DataFrame, looking for columns that could eventually define your features and target variables.   "
      ]
    },
    {
      "cell_type": "code",
      "execution_count": 99,
      "metadata": {
        "colab": {
          "base_uri": "https://localhost:8080/",
          "height": 226
        },
        "id": "G65km1KD6q6x",
        "outputId": "08604351-4f5f-4d6b-b7b4-31b8895c5a75"
      },
      "outputs": [
        {
          "output_type": "execute_result",
          "data": {
            "text/plain": [
              "   payment_history  location_parameter  stem_degree_score  gpa_ranking  \\\n",
              "0              7.4                0.70               0.00          1.9   \n",
              "1              7.8                0.88               0.00          2.6   \n",
              "2              7.8                0.76               0.04          2.3   \n",
              "3             11.2                0.28               0.56          1.9   \n",
              "4              7.4                0.70               0.00          1.9   \n",
              "\n",
              "   alumni_success  study_major_code  time_to_completion  \\\n",
              "0           0.076              11.0                34.0   \n",
              "1           0.098              25.0                67.0   \n",
              "2           0.092              15.0                54.0   \n",
              "3           0.075              17.0                60.0   \n",
              "4           0.076              11.0                34.0   \n",
              "\n",
              "   finance_workshop_score  cohort_ranking  total_loan_score  \\\n",
              "0                  0.9978            3.51              0.56   \n",
              "1                  0.9968            3.20              0.68   \n",
              "2                  0.9970            3.26              0.65   \n",
              "3                  0.9980            3.16              0.58   \n",
              "4                  0.9978            3.51              0.56   \n",
              "\n",
              "   financial_aid_score  credit_ranking  \n",
              "0                  9.4               0  \n",
              "1                  9.8               0  \n",
              "2                  9.8               0  \n",
              "3                  9.8               1  \n",
              "4                  9.4               0  "
            ],
            "text/html": [
              "\n",
              "  <div id=\"df-daa44d1c-ed55-481c-987f-bfab49ea6796\" class=\"colab-df-container\">\n",
              "    <div>\n",
              "<style scoped>\n",
              "    .dataframe tbody tr th:only-of-type {\n",
              "        vertical-align: middle;\n",
              "    }\n",
              "\n",
              "    .dataframe tbody tr th {\n",
              "        vertical-align: top;\n",
              "    }\n",
              "\n",
              "    .dataframe thead th {\n",
              "        text-align: right;\n",
              "    }\n",
              "</style>\n",
              "<table border=\"1\" class=\"dataframe\">\n",
              "  <thead>\n",
              "    <tr style=\"text-align: right;\">\n",
              "      <th></th>\n",
              "      <th>payment_history</th>\n",
              "      <th>location_parameter</th>\n",
              "      <th>stem_degree_score</th>\n",
              "      <th>gpa_ranking</th>\n",
              "      <th>alumni_success</th>\n",
              "      <th>study_major_code</th>\n",
              "      <th>time_to_completion</th>\n",
              "      <th>finance_workshop_score</th>\n",
              "      <th>cohort_ranking</th>\n",
              "      <th>total_loan_score</th>\n",
              "      <th>financial_aid_score</th>\n",
              "      <th>credit_ranking</th>\n",
              "    </tr>\n",
              "  </thead>\n",
              "  <tbody>\n",
              "    <tr>\n",
              "      <th>0</th>\n",
              "      <td>7.4</td>\n",
              "      <td>0.70</td>\n",
              "      <td>0.00</td>\n",
              "      <td>1.9</td>\n",
              "      <td>0.076</td>\n",
              "      <td>11.0</td>\n",
              "      <td>34.0</td>\n",
              "      <td>0.9978</td>\n",
              "      <td>3.51</td>\n",
              "      <td>0.56</td>\n",
              "      <td>9.4</td>\n",
              "      <td>0</td>\n",
              "    </tr>\n",
              "    <tr>\n",
              "      <th>1</th>\n",
              "      <td>7.8</td>\n",
              "      <td>0.88</td>\n",
              "      <td>0.00</td>\n",
              "      <td>2.6</td>\n",
              "      <td>0.098</td>\n",
              "      <td>25.0</td>\n",
              "      <td>67.0</td>\n",
              "      <td>0.9968</td>\n",
              "      <td>3.20</td>\n",
              "      <td>0.68</td>\n",
              "      <td>9.8</td>\n",
              "      <td>0</td>\n",
              "    </tr>\n",
              "    <tr>\n",
              "      <th>2</th>\n",
              "      <td>7.8</td>\n",
              "      <td>0.76</td>\n",
              "      <td>0.04</td>\n",
              "      <td>2.3</td>\n",
              "      <td>0.092</td>\n",
              "      <td>15.0</td>\n",
              "      <td>54.0</td>\n",
              "      <td>0.9970</td>\n",
              "      <td>3.26</td>\n",
              "      <td>0.65</td>\n",
              "      <td>9.8</td>\n",
              "      <td>0</td>\n",
              "    </tr>\n",
              "    <tr>\n",
              "      <th>3</th>\n",
              "      <td>11.2</td>\n",
              "      <td>0.28</td>\n",
              "      <td>0.56</td>\n",
              "      <td>1.9</td>\n",
              "      <td>0.075</td>\n",
              "      <td>17.0</td>\n",
              "      <td>60.0</td>\n",
              "      <td>0.9980</td>\n",
              "      <td>3.16</td>\n",
              "      <td>0.58</td>\n",
              "      <td>9.8</td>\n",
              "      <td>1</td>\n",
              "    </tr>\n",
              "    <tr>\n",
              "      <th>4</th>\n",
              "      <td>7.4</td>\n",
              "      <td>0.70</td>\n",
              "      <td>0.00</td>\n",
              "      <td>1.9</td>\n",
              "      <td>0.076</td>\n",
              "      <td>11.0</td>\n",
              "      <td>34.0</td>\n",
              "      <td>0.9978</td>\n",
              "      <td>3.51</td>\n",
              "      <td>0.56</td>\n",
              "      <td>9.4</td>\n",
              "      <td>0</td>\n",
              "    </tr>\n",
              "  </tbody>\n",
              "</table>\n",
              "</div>\n",
              "    <div class=\"colab-df-buttons\">\n",
              "\n",
              "  <div class=\"colab-df-container\">\n",
              "    <button class=\"colab-df-convert\" onclick=\"convertToInteractive('df-daa44d1c-ed55-481c-987f-bfab49ea6796')\"\n",
              "            title=\"Convert this dataframe to an interactive table.\"\n",
              "            style=\"display:none;\">\n",
              "\n",
              "  <svg xmlns=\"http://www.w3.org/2000/svg\" height=\"24px\" viewBox=\"0 -960 960 960\">\n",
              "    <path d=\"M120-120v-720h720v720H120Zm60-500h600v-160H180v160Zm220 220h160v-160H400v160Zm0 220h160v-160H400v160ZM180-400h160v-160H180v160Zm440 0h160v-160H620v160ZM180-180h160v-160H180v160Zm440 0h160v-160H620v160Z\"/>\n",
              "  </svg>\n",
              "    </button>\n",
              "\n",
              "  <style>\n",
              "    .colab-df-container {\n",
              "      display:flex;\n",
              "      gap: 12px;\n",
              "    }\n",
              "\n",
              "    .colab-df-convert {\n",
              "      background-color: #E8F0FE;\n",
              "      border: none;\n",
              "      border-radius: 50%;\n",
              "      cursor: pointer;\n",
              "      display: none;\n",
              "      fill: #1967D2;\n",
              "      height: 32px;\n",
              "      padding: 0 0 0 0;\n",
              "      width: 32px;\n",
              "    }\n",
              "\n",
              "    .colab-df-convert:hover {\n",
              "      background-color: #E2EBFA;\n",
              "      box-shadow: 0px 1px 2px rgba(60, 64, 67, 0.3), 0px 1px 3px 1px rgba(60, 64, 67, 0.15);\n",
              "      fill: #174EA6;\n",
              "    }\n",
              "\n",
              "    .colab-df-buttons div {\n",
              "      margin-bottom: 4px;\n",
              "    }\n",
              "\n",
              "    [theme=dark] .colab-df-convert {\n",
              "      background-color: #3B4455;\n",
              "      fill: #D2E3FC;\n",
              "    }\n",
              "\n",
              "    [theme=dark] .colab-df-convert:hover {\n",
              "      background-color: #434B5C;\n",
              "      box-shadow: 0px 1px 3px 1px rgba(0, 0, 0, 0.15);\n",
              "      filter: drop-shadow(0px 1px 2px rgba(0, 0, 0, 0.3));\n",
              "      fill: #FFFFFF;\n",
              "    }\n",
              "  </style>\n",
              "\n",
              "    <script>\n",
              "      const buttonEl =\n",
              "        document.querySelector('#df-daa44d1c-ed55-481c-987f-bfab49ea6796 button.colab-df-convert');\n",
              "      buttonEl.style.display =\n",
              "        google.colab.kernel.accessAllowed ? 'block' : 'none';\n",
              "\n",
              "      async function convertToInteractive(key) {\n",
              "        const element = document.querySelector('#df-daa44d1c-ed55-481c-987f-bfab49ea6796');\n",
              "        const dataTable =\n",
              "          await google.colab.kernel.invokeFunction('convertToInteractive',\n",
              "                                                    [key], {});\n",
              "        if (!dataTable) return;\n",
              "\n",
              "        const docLinkHtml = 'Like what you see? Visit the ' +\n",
              "          '<a target=\"_blank\" href=https://colab.research.google.com/notebooks/data_table.ipynb>data table notebook</a>'\n",
              "          + ' to learn more about interactive tables.';\n",
              "        element.innerHTML = '';\n",
              "        dataTable['output_type'] = 'display_data';\n",
              "        await google.colab.output.renderOutput(dataTable, element);\n",
              "        const docLink = document.createElement('div');\n",
              "        docLink.innerHTML = docLinkHtml;\n",
              "        element.appendChild(docLink);\n",
              "      }\n",
              "    </script>\n",
              "  </div>\n",
              "\n",
              "\n",
              "<div id=\"df-41c33aa9-b60a-412b-b3fe-7c6d6b8e732a\">\n",
              "  <button class=\"colab-df-quickchart\" onclick=\"quickchart('df-41c33aa9-b60a-412b-b3fe-7c6d6b8e732a')\"\n",
              "            title=\"Suggest charts\"\n",
              "            style=\"display:none;\">\n",
              "\n",
              "<svg xmlns=\"http://www.w3.org/2000/svg\" height=\"24px\"viewBox=\"0 0 24 24\"\n",
              "     width=\"24px\">\n",
              "    <g>\n",
              "        <path d=\"M19 3H5c-1.1 0-2 .9-2 2v14c0 1.1.9 2 2 2h14c1.1 0 2-.9 2-2V5c0-1.1-.9-2-2-2zM9 17H7v-7h2v7zm4 0h-2V7h2v10zm4 0h-2v-4h2v4z\"/>\n",
              "    </g>\n",
              "</svg>\n",
              "  </button>\n",
              "\n",
              "<style>\n",
              "  .colab-df-quickchart {\n",
              "      --bg-color: #E8F0FE;\n",
              "      --fill-color: #1967D2;\n",
              "      --hover-bg-color: #E2EBFA;\n",
              "      --hover-fill-color: #174EA6;\n",
              "      --disabled-fill-color: #AAA;\n",
              "      --disabled-bg-color: #DDD;\n",
              "  }\n",
              "\n",
              "  [theme=dark] .colab-df-quickchart {\n",
              "      --bg-color: #3B4455;\n",
              "      --fill-color: #D2E3FC;\n",
              "      --hover-bg-color: #434B5C;\n",
              "      --hover-fill-color: #FFFFFF;\n",
              "      --disabled-bg-color: #3B4455;\n",
              "      --disabled-fill-color: #666;\n",
              "  }\n",
              "\n",
              "  .colab-df-quickchart {\n",
              "    background-color: var(--bg-color);\n",
              "    border: none;\n",
              "    border-radius: 50%;\n",
              "    cursor: pointer;\n",
              "    display: none;\n",
              "    fill: var(--fill-color);\n",
              "    height: 32px;\n",
              "    padding: 0;\n",
              "    width: 32px;\n",
              "  }\n",
              "\n",
              "  .colab-df-quickchart:hover {\n",
              "    background-color: var(--hover-bg-color);\n",
              "    box-shadow: 0 1px 2px rgba(60, 64, 67, 0.3), 0 1px 3px 1px rgba(60, 64, 67, 0.15);\n",
              "    fill: var(--button-hover-fill-color);\n",
              "  }\n",
              "\n",
              "  .colab-df-quickchart-complete:disabled,\n",
              "  .colab-df-quickchart-complete:disabled:hover {\n",
              "    background-color: var(--disabled-bg-color);\n",
              "    fill: var(--disabled-fill-color);\n",
              "    box-shadow: none;\n",
              "  }\n",
              "\n",
              "  .colab-df-spinner {\n",
              "    border: 2px solid var(--fill-color);\n",
              "    border-color: transparent;\n",
              "    border-bottom-color: var(--fill-color);\n",
              "    animation:\n",
              "      spin 1s steps(1) infinite;\n",
              "  }\n",
              "\n",
              "  @keyframes spin {\n",
              "    0% {\n",
              "      border-color: transparent;\n",
              "      border-bottom-color: var(--fill-color);\n",
              "      border-left-color: var(--fill-color);\n",
              "    }\n",
              "    20% {\n",
              "      border-color: transparent;\n",
              "      border-left-color: var(--fill-color);\n",
              "      border-top-color: var(--fill-color);\n",
              "    }\n",
              "    30% {\n",
              "      border-color: transparent;\n",
              "      border-left-color: var(--fill-color);\n",
              "      border-top-color: var(--fill-color);\n",
              "      border-right-color: var(--fill-color);\n",
              "    }\n",
              "    40% {\n",
              "      border-color: transparent;\n",
              "      border-right-color: var(--fill-color);\n",
              "      border-top-color: var(--fill-color);\n",
              "    }\n",
              "    60% {\n",
              "      border-color: transparent;\n",
              "      border-right-color: var(--fill-color);\n",
              "    }\n",
              "    80% {\n",
              "      border-color: transparent;\n",
              "      border-right-color: var(--fill-color);\n",
              "      border-bottom-color: var(--fill-color);\n",
              "    }\n",
              "    90% {\n",
              "      border-color: transparent;\n",
              "      border-bottom-color: var(--fill-color);\n",
              "    }\n",
              "  }\n",
              "</style>\n",
              "\n",
              "  <script>\n",
              "    async function quickchart(key) {\n",
              "      const quickchartButtonEl =\n",
              "        document.querySelector('#' + key + ' button');\n",
              "      quickchartButtonEl.disabled = true;  // To prevent multiple clicks.\n",
              "      quickchartButtonEl.classList.add('colab-df-spinner');\n",
              "      try {\n",
              "        const charts = await google.colab.kernel.invokeFunction(\n",
              "            'suggestCharts', [key], {});\n",
              "      } catch (error) {\n",
              "        console.error('Error during call to suggestCharts:', error);\n",
              "      }\n",
              "      quickchartButtonEl.classList.remove('colab-df-spinner');\n",
              "      quickchartButtonEl.classList.add('colab-df-quickchart-complete');\n",
              "    }\n",
              "    (() => {\n",
              "      let quickchartButtonEl =\n",
              "        document.querySelector('#df-41c33aa9-b60a-412b-b3fe-7c6d6b8e732a button');\n",
              "      quickchartButtonEl.style.display =\n",
              "        google.colab.kernel.accessAllowed ? 'block' : 'none';\n",
              "    })();\n",
              "  </script>\n",
              "</div>\n",
              "\n",
              "    </div>\n",
              "  </div>\n"
            ],
            "application/vnd.google.colaboratory.intrinsic+json": {
              "type": "dataframe",
              "variable_name": "loans_df",
              "summary": "{\n  \"name\": \"loans_df\",\n  \"rows\": 1599,\n  \"fields\": [\n    {\n      \"column\": \"payment_history\",\n      \"properties\": {\n        \"dtype\": \"number\",\n        \"std\": 1.7410963181277006,\n        \"min\": 4.6,\n        \"max\": 15.9,\n        \"num_unique_values\": 96,\n        \"samples\": [\n          5.3,\n          12.7,\n          12.6\n        ],\n        \"semantic_type\": \"\",\n        \"description\": \"\"\n      }\n    },\n    {\n      \"column\": \"location_parameter\",\n      \"properties\": {\n        \"dtype\": \"number\",\n        \"std\": 0.17905970415353498,\n        \"min\": 0.12,\n        \"max\": 1.58,\n        \"num_unique_values\": 143,\n        \"samples\": [\n          1.025,\n          0.4,\n          0.87\n        ],\n        \"semantic_type\": \"\",\n        \"description\": \"\"\n      }\n    },\n    {\n      \"column\": \"stem_degree_score\",\n      \"properties\": {\n        \"dtype\": \"number\",\n        \"std\": 0.19480113740531785,\n        \"min\": 0.0,\n        \"max\": 1.0,\n        \"num_unique_values\": 80,\n        \"samples\": [\n          0.37,\n          0.0,\n          0.09\n        ],\n        \"semantic_type\": \"\",\n        \"description\": \"\"\n      }\n    },\n    {\n      \"column\": \"gpa_ranking\",\n      \"properties\": {\n        \"dtype\": \"number\",\n        \"std\": 1.4099280595072805,\n        \"min\": 0.9,\n        \"max\": 15.5,\n        \"num_unique_values\": 91,\n        \"samples\": [\n          11.0,\n          3.0,\n          15.5\n        ],\n        \"semantic_type\": \"\",\n        \"description\": \"\"\n      }\n    },\n    {\n      \"column\": \"alumni_success\",\n      \"properties\": {\n        \"dtype\": \"number\",\n        \"std\": 0.047065302010090154,\n        \"min\": 0.012,\n        \"max\": 0.611,\n        \"num_unique_values\": 153,\n        \"samples\": [\n          0.096,\n          0.343,\n          0.159\n        ],\n        \"semantic_type\": \"\",\n        \"description\": \"\"\n      }\n    },\n    {\n      \"column\": \"study_major_code\",\n      \"properties\": {\n        \"dtype\": \"number\",\n        \"std\": 10.46015696980973,\n        \"min\": 1.0,\n        \"max\": 72.0,\n        \"num_unique_values\": 60,\n        \"samples\": [\n          11.0,\n          9.0,\n          32.0\n        ],\n        \"semantic_type\": \"\",\n        \"description\": \"\"\n      }\n    },\n    {\n      \"column\": \"time_to_completion\",\n      \"properties\": {\n        \"dtype\": \"number\",\n        \"std\": 32.89532447829901,\n        \"min\": 6.0,\n        \"max\": 289.0,\n        \"num_unique_values\": 144,\n        \"samples\": [\n          68.0,\n          35.0,\n          101.0\n        ],\n        \"semantic_type\": \"\",\n        \"description\": \"\"\n      }\n    },\n    {\n      \"column\": \"finance_workshop_score\",\n      \"properties\": {\n        \"dtype\": \"number\",\n        \"std\": 0.0018873339538425559,\n        \"min\": 0.99007,\n        \"max\": 1.00369,\n        \"num_unique_values\": 436,\n        \"samples\": [\n          0.99974,\n          1.0001,\n          0.99471\n        ],\n        \"semantic_type\": \"\",\n        \"description\": \"\"\n      }\n    },\n    {\n      \"column\": \"cohort_ranking\",\n      \"properties\": {\n        \"dtype\": \"number\",\n        \"std\": 0.15438646490354266,\n        \"min\": 2.74,\n        \"max\": 4.01,\n        \"num_unique_values\": 89,\n        \"samples\": [\n          3.07,\n          3.0,\n          3.15\n        ],\n        \"semantic_type\": \"\",\n        \"description\": \"\"\n      }\n    },\n    {\n      \"column\": \"total_loan_score\",\n      \"properties\": {\n        \"dtype\": \"number\",\n        \"std\": 0.16950697959010977,\n        \"min\": 0.33,\n        \"max\": 2.0,\n        \"num_unique_values\": 96,\n        \"samples\": [\n          1.07,\n          1.04,\n          1.18\n        ],\n        \"semantic_type\": \"\",\n        \"description\": \"\"\n      }\n    },\n    {\n      \"column\": \"financial_aid_score\",\n      \"properties\": {\n        \"dtype\": \"number\",\n        \"std\": 1.0656675818563965,\n        \"min\": 8.4,\n        \"max\": 14.9,\n        \"num_unique_values\": 65,\n        \"samples\": [\n          8.5,\n          9.95,\n          9.4\n        ],\n        \"semantic_type\": \"\",\n        \"description\": \"\"\n      }\n    },\n    {\n      \"column\": \"credit_ranking\",\n      \"properties\": {\n        \"dtype\": \"number\",\n        \"std\": 0,\n        \"min\": 0,\n        \"max\": 1,\n        \"num_unique_values\": 2,\n        \"samples\": [\n          1,\n          0\n        ],\n        \"semantic_type\": \"\",\n        \"description\": \"\"\n      }\n    }\n  ]\n}"
            }
          },
          "metadata": {},
          "execution_count": 99
        }
      ],
      "source": [
        "# Read the csv into a Pandas DataFrame\n",
        "file_path = \"https://static.bc-edx.com/ai/ail-v-1-0/m18/lms/datasets/student-loans.csv\"\n",
        "loans_df = pd.read_csv(file_path)\n",
        "\n",
        "# Review the DataFrame\n",
        "loans_df.head()"
      ]
    },
    {
      "cell_type": "code",
      "execution_count": 100,
      "metadata": {
        "colab": {
          "base_uri": "https://localhost:8080/",
          "height": 460
        },
        "id": "K8ZYB8wx6q6x",
        "outputId": "4d306388-bc0f-46dc-f1cd-bdb7253b4210"
      },
      "outputs": [
        {
          "output_type": "execute_result",
          "data": {
            "text/plain": [
              "payment_history           float64\n",
              "location_parameter        float64\n",
              "stem_degree_score         float64\n",
              "gpa_ranking               float64\n",
              "alumni_success            float64\n",
              "study_major_code          float64\n",
              "time_to_completion        float64\n",
              "finance_workshop_score    float64\n",
              "cohort_ranking            float64\n",
              "total_loan_score          float64\n",
              "financial_aid_score       float64\n",
              "credit_ranking              int64\n",
              "dtype: object"
            ],
            "text/html": [
              "<div>\n",
              "<style scoped>\n",
              "    .dataframe tbody tr th:only-of-type {\n",
              "        vertical-align: middle;\n",
              "    }\n",
              "\n",
              "    .dataframe tbody tr th {\n",
              "        vertical-align: top;\n",
              "    }\n",
              "\n",
              "    .dataframe thead th {\n",
              "        text-align: right;\n",
              "    }\n",
              "</style>\n",
              "<table border=\"1\" class=\"dataframe\">\n",
              "  <thead>\n",
              "    <tr style=\"text-align: right;\">\n",
              "      <th></th>\n",
              "      <th>0</th>\n",
              "    </tr>\n",
              "  </thead>\n",
              "  <tbody>\n",
              "    <tr>\n",
              "      <th>payment_history</th>\n",
              "      <td>float64</td>\n",
              "    </tr>\n",
              "    <tr>\n",
              "      <th>location_parameter</th>\n",
              "      <td>float64</td>\n",
              "    </tr>\n",
              "    <tr>\n",
              "      <th>stem_degree_score</th>\n",
              "      <td>float64</td>\n",
              "    </tr>\n",
              "    <tr>\n",
              "      <th>gpa_ranking</th>\n",
              "      <td>float64</td>\n",
              "    </tr>\n",
              "    <tr>\n",
              "      <th>alumni_success</th>\n",
              "      <td>float64</td>\n",
              "    </tr>\n",
              "    <tr>\n",
              "      <th>study_major_code</th>\n",
              "      <td>float64</td>\n",
              "    </tr>\n",
              "    <tr>\n",
              "      <th>time_to_completion</th>\n",
              "      <td>float64</td>\n",
              "    </tr>\n",
              "    <tr>\n",
              "      <th>finance_workshop_score</th>\n",
              "      <td>float64</td>\n",
              "    </tr>\n",
              "    <tr>\n",
              "      <th>cohort_ranking</th>\n",
              "      <td>float64</td>\n",
              "    </tr>\n",
              "    <tr>\n",
              "      <th>total_loan_score</th>\n",
              "      <td>float64</td>\n",
              "    </tr>\n",
              "    <tr>\n",
              "      <th>financial_aid_score</th>\n",
              "      <td>float64</td>\n",
              "    </tr>\n",
              "    <tr>\n",
              "      <th>credit_ranking</th>\n",
              "      <td>int64</td>\n",
              "    </tr>\n",
              "  </tbody>\n",
              "</table>\n",
              "</div><br><label><b>dtype:</b> object</label>"
            ]
          },
          "metadata": {},
          "execution_count": 100
        }
      ],
      "source": [
        "# Review the data types associated with the columns\n",
        "loans_df.dtypes"
      ]
    },
    {
      "cell_type": "code",
      "execution_count": 101,
      "metadata": {
        "colab": {
          "base_uri": "https://localhost:8080/",
          "height": 178
        },
        "id": "9P8aX-dW75JO",
        "outputId": "128340fe-e712-47d3-861e-be984fd64fea"
      },
      "outputs": [
        {
          "output_type": "execute_result",
          "data": {
            "text/plain": [
              "credit_ranking\n",
              "1    855\n",
              "0    744\n",
              "Name: count, dtype: int64"
            ],
            "text/html": [
              "<div>\n",
              "<style scoped>\n",
              "    .dataframe tbody tr th:only-of-type {\n",
              "        vertical-align: middle;\n",
              "    }\n",
              "\n",
              "    .dataframe tbody tr th {\n",
              "        vertical-align: top;\n",
              "    }\n",
              "\n",
              "    .dataframe thead th {\n",
              "        text-align: right;\n",
              "    }\n",
              "</style>\n",
              "<table border=\"1\" class=\"dataframe\">\n",
              "  <thead>\n",
              "    <tr style=\"text-align: right;\">\n",
              "      <th></th>\n",
              "      <th>count</th>\n",
              "    </tr>\n",
              "    <tr>\n",
              "      <th>credit_ranking</th>\n",
              "      <th></th>\n",
              "    </tr>\n",
              "  </thead>\n",
              "  <tbody>\n",
              "    <tr>\n",
              "      <th>1</th>\n",
              "      <td>855</td>\n",
              "    </tr>\n",
              "    <tr>\n",
              "      <th>0</th>\n",
              "      <td>744</td>\n",
              "    </tr>\n",
              "  </tbody>\n",
              "</table>\n",
              "</div><br><label><b>dtype:</b> int64</label>"
            ]
          },
          "metadata": {},
          "execution_count": 101
        }
      ],
      "source": [
        "# Check the credit_ranking value counts\n",
        "loans_df[\"credit_ranking\"].value_counts()"
      ]
    },
    {
      "cell_type": "markdown",
      "metadata": {
        "id": "R6vbZeDH6q6y"
      },
      "source": [
        "### Step 2: Using the preprocessed data, create the features (`X`) and target (`y`) datasets. The target dataset should be defined by the preprocessed DataFrame column “credit_ranking”. The remaining columns should define the features dataset."
      ]
    },
    {
      "cell_type": "code",
      "execution_count": 102,
      "metadata": {
        "colab": {
          "base_uri": "https://localhost:8080/"
        },
        "id": "Q5eVAP5M6q6y",
        "outputId": "ce460360-0694-4722-e22a-e977115c8fe4"
      },
      "outputs": [
        {
          "output_type": "execute_result",
          "data": {
            "text/plain": [
              "array([0, 0, 0, 1, 0])"
            ]
          },
          "metadata": {},
          "execution_count": 102
        }
      ],
      "source": [
        "# Define the target set y using the credit_ranking column\n",
        "y = loans_df[\"credit_ranking\"]\n",
        "\n",
        "# Display a sample of y\n",
        "y_array = np.array(y.head(5))\n",
        "y_array"
      ]
    },
    {
      "cell_type": "code",
      "execution_count": 103,
      "metadata": {
        "colab": {
          "base_uri": "https://localhost:8080/",
          "height": 226
        },
        "id": "IIkrD2Sn6q6z",
        "outputId": "363234ac-f20a-4508-b6cb-f74f89b4c358"
      },
      "outputs": [
        {
          "output_type": "execute_result",
          "data": {
            "text/plain": [
              "   payment_history  location_parameter  stem_degree_score  gpa_ranking  \\\n",
              "0              7.4                0.70               0.00          1.9   \n",
              "1              7.8                0.88               0.00          2.6   \n",
              "2              7.8                0.76               0.04          2.3   \n",
              "3             11.2                0.28               0.56          1.9   \n",
              "4              7.4                0.70               0.00          1.9   \n",
              "\n",
              "   alumni_success  study_major_code  time_to_completion  \\\n",
              "0           0.076              11.0                34.0   \n",
              "1           0.098              25.0                67.0   \n",
              "2           0.092              15.0                54.0   \n",
              "3           0.075              17.0                60.0   \n",
              "4           0.076              11.0                34.0   \n",
              "\n",
              "   finance_workshop_score  cohort_ranking  total_loan_score  \\\n",
              "0                  0.9978            3.51              0.56   \n",
              "1                  0.9968            3.20              0.68   \n",
              "2                  0.9970            3.26              0.65   \n",
              "3                  0.9980            3.16              0.58   \n",
              "4                  0.9978            3.51              0.56   \n",
              "\n",
              "   financial_aid_score  \n",
              "0                  9.4  \n",
              "1                  9.8  \n",
              "2                  9.8  \n",
              "3                  9.8  \n",
              "4                  9.4  "
            ],
            "text/html": [
              "\n",
              "  <div id=\"df-2e4fe11f-8e38-4bf2-8eff-a6c87ad7d11b\" class=\"colab-df-container\">\n",
              "    <div>\n",
              "<style scoped>\n",
              "    .dataframe tbody tr th:only-of-type {\n",
              "        vertical-align: middle;\n",
              "    }\n",
              "\n",
              "    .dataframe tbody tr th {\n",
              "        vertical-align: top;\n",
              "    }\n",
              "\n",
              "    .dataframe thead th {\n",
              "        text-align: right;\n",
              "    }\n",
              "</style>\n",
              "<table border=\"1\" class=\"dataframe\">\n",
              "  <thead>\n",
              "    <tr style=\"text-align: right;\">\n",
              "      <th></th>\n",
              "      <th>payment_history</th>\n",
              "      <th>location_parameter</th>\n",
              "      <th>stem_degree_score</th>\n",
              "      <th>gpa_ranking</th>\n",
              "      <th>alumni_success</th>\n",
              "      <th>study_major_code</th>\n",
              "      <th>time_to_completion</th>\n",
              "      <th>finance_workshop_score</th>\n",
              "      <th>cohort_ranking</th>\n",
              "      <th>total_loan_score</th>\n",
              "      <th>financial_aid_score</th>\n",
              "    </tr>\n",
              "  </thead>\n",
              "  <tbody>\n",
              "    <tr>\n",
              "      <th>0</th>\n",
              "      <td>7.4</td>\n",
              "      <td>0.70</td>\n",
              "      <td>0.00</td>\n",
              "      <td>1.9</td>\n",
              "      <td>0.076</td>\n",
              "      <td>11.0</td>\n",
              "      <td>34.0</td>\n",
              "      <td>0.9978</td>\n",
              "      <td>3.51</td>\n",
              "      <td>0.56</td>\n",
              "      <td>9.4</td>\n",
              "    </tr>\n",
              "    <tr>\n",
              "      <th>1</th>\n",
              "      <td>7.8</td>\n",
              "      <td>0.88</td>\n",
              "      <td>0.00</td>\n",
              "      <td>2.6</td>\n",
              "      <td>0.098</td>\n",
              "      <td>25.0</td>\n",
              "      <td>67.0</td>\n",
              "      <td>0.9968</td>\n",
              "      <td>3.20</td>\n",
              "      <td>0.68</td>\n",
              "      <td>9.8</td>\n",
              "    </tr>\n",
              "    <tr>\n",
              "      <th>2</th>\n",
              "      <td>7.8</td>\n",
              "      <td>0.76</td>\n",
              "      <td>0.04</td>\n",
              "      <td>2.3</td>\n",
              "      <td>0.092</td>\n",
              "      <td>15.0</td>\n",
              "      <td>54.0</td>\n",
              "      <td>0.9970</td>\n",
              "      <td>3.26</td>\n",
              "      <td>0.65</td>\n",
              "      <td>9.8</td>\n",
              "    </tr>\n",
              "    <tr>\n",
              "      <th>3</th>\n",
              "      <td>11.2</td>\n",
              "      <td>0.28</td>\n",
              "      <td>0.56</td>\n",
              "      <td>1.9</td>\n",
              "      <td>0.075</td>\n",
              "      <td>17.0</td>\n",
              "      <td>60.0</td>\n",
              "      <td>0.9980</td>\n",
              "      <td>3.16</td>\n",
              "      <td>0.58</td>\n",
              "      <td>9.8</td>\n",
              "    </tr>\n",
              "    <tr>\n",
              "      <th>4</th>\n",
              "      <td>7.4</td>\n",
              "      <td>0.70</td>\n",
              "      <td>0.00</td>\n",
              "      <td>1.9</td>\n",
              "      <td>0.076</td>\n",
              "      <td>11.0</td>\n",
              "      <td>34.0</td>\n",
              "      <td>0.9978</td>\n",
              "      <td>3.51</td>\n",
              "      <td>0.56</td>\n",
              "      <td>9.4</td>\n",
              "    </tr>\n",
              "  </tbody>\n",
              "</table>\n",
              "</div>\n",
              "    <div class=\"colab-df-buttons\">\n",
              "\n",
              "  <div class=\"colab-df-container\">\n",
              "    <button class=\"colab-df-convert\" onclick=\"convertToInteractive('df-2e4fe11f-8e38-4bf2-8eff-a6c87ad7d11b')\"\n",
              "            title=\"Convert this dataframe to an interactive table.\"\n",
              "            style=\"display:none;\">\n",
              "\n",
              "  <svg xmlns=\"http://www.w3.org/2000/svg\" height=\"24px\" viewBox=\"0 -960 960 960\">\n",
              "    <path d=\"M120-120v-720h720v720H120Zm60-500h600v-160H180v160Zm220 220h160v-160H400v160Zm0 220h160v-160H400v160ZM180-400h160v-160H180v160Zm440 0h160v-160H620v160ZM180-180h160v-160H180v160Zm440 0h160v-160H620v160Z\"/>\n",
              "  </svg>\n",
              "    </button>\n",
              "\n",
              "  <style>\n",
              "    .colab-df-container {\n",
              "      display:flex;\n",
              "      gap: 12px;\n",
              "    }\n",
              "\n",
              "    .colab-df-convert {\n",
              "      background-color: #E8F0FE;\n",
              "      border: none;\n",
              "      border-radius: 50%;\n",
              "      cursor: pointer;\n",
              "      display: none;\n",
              "      fill: #1967D2;\n",
              "      height: 32px;\n",
              "      padding: 0 0 0 0;\n",
              "      width: 32px;\n",
              "    }\n",
              "\n",
              "    .colab-df-convert:hover {\n",
              "      background-color: #E2EBFA;\n",
              "      box-shadow: 0px 1px 2px rgba(60, 64, 67, 0.3), 0px 1px 3px 1px rgba(60, 64, 67, 0.15);\n",
              "      fill: #174EA6;\n",
              "    }\n",
              "\n",
              "    .colab-df-buttons div {\n",
              "      margin-bottom: 4px;\n",
              "    }\n",
              "\n",
              "    [theme=dark] .colab-df-convert {\n",
              "      background-color: #3B4455;\n",
              "      fill: #D2E3FC;\n",
              "    }\n",
              "\n",
              "    [theme=dark] .colab-df-convert:hover {\n",
              "      background-color: #434B5C;\n",
              "      box-shadow: 0px 1px 3px 1px rgba(0, 0, 0, 0.15);\n",
              "      filter: drop-shadow(0px 1px 2px rgba(0, 0, 0, 0.3));\n",
              "      fill: #FFFFFF;\n",
              "    }\n",
              "  </style>\n",
              "\n",
              "    <script>\n",
              "      const buttonEl =\n",
              "        document.querySelector('#df-2e4fe11f-8e38-4bf2-8eff-a6c87ad7d11b button.colab-df-convert');\n",
              "      buttonEl.style.display =\n",
              "        google.colab.kernel.accessAllowed ? 'block' : 'none';\n",
              "\n",
              "      async function convertToInteractive(key) {\n",
              "        const element = document.querySelector('#df-2e4fe11f-8e38-4bf2-8eff-a6c87ad7d11b');\n",
              "        const dataTable =\n",
              "          await google.colab.kernel.invokeFunction('convertToInteractive',\n",
              "                                                    [key], {});\n",
              "        if (!dataTable) return;\n",
              "\n",
              "        const docLinkHtml = 'Like what you see? Visit the ' +\n",
              "          '<a target=\"_blank\" href=https://colab.research.google.com/notebooks/data_table.ipynb>data table notebook</a>'\n",
              "          + ' to learn more about interactive tables.';\n",
              "        element.innerHTML = '';\n",
              "        dataTable['output_type'] = 'display_data';\n",
              "        await google.colab.output.renderOutput(dataTable, element);\n",
              "        const docLink = document.createElement('div');\n",
              "        docLink.innerHTML = docLinkHtml;\n",
              "        element.appendChild(docLink);\n",
              "      }\n",
              "    </script>\n",
              "  </div>\n",
              "\n",
              "\n",
              "<div id=\"df-1850236c-ec11-4849-a738-98d0270ad64f\">\n",
              "  <button class=\"colab-df-quickchart\" onclick=\"quickchart('df-1850236c-ec11-4849-a738-98d0270ad64f')\"\n",
              "            title=\"Suggest charts\"\n",
              "            style=\"display:none;\">\n",
              "\n",
              "<svg xmlns=\"http://www.w3.org/2000/svg\" height=\"24px\"viewBox=\"0 0 24 24\"\n",
              "     width=\"24px\">\n",
              "    <g>\n",
              "        <path d=\"M19 3H5c-1.1 0-2 .9-2 2v14c0 1.1.9 2 2 2h14c1.1 0 2-.9 2-2V5c0-1.1-.9-2-2-2zM9 17H7v-7h2v7zm4 0h-2V7h2v10zm4 0h-2v-4h2v4z\"/>\n",
              "    </g>\n",
              "</svg>\n",
              "  </button>\n",
              "\n",
              "<style>\n",
              "  .colab-df-quickchart {\n",
              "      --bg-color: #E8F0FE;\n",
              "      --fill-color: #1967D2;\n",
              "      --hover-bg-color: #E2EBFA;\n",
              "      --hover-fill-color: #174EA6;\n",
              "      --disabled-fill-color: #AAA;\n",
              "      --disabled-bg-color: #DDD;\n",
              "  }\n",
              "\n",
              "  [theme=dark] .colab-df-quickchart {\n",
              "      --bg-color: #3B4455;\n",
              "      --fill-color: #D2E3FC;\n",
              "      --hover-bg-color: #434B5C;\n",
              "      --hover-fill-color: #FFFFFF;\n",
              "      --disabled-bg-color: #3B4455;\n",
              "      --disabled-fill-color: #666;\n",
              "  }\n",
              "\n",
              "  .colab-df-quickchart {\n",
              "    background-color: var(--bg-color);\n",
              "    border: none;\n",
              "    border-radius: 50%;\n",
              "    cursor: pointer;\n",
              "    display: none;\n",
              "    fill: var(--fill-color);\n",
              "    height: 32px;\n",
              "    padding: 0;\n",
              "    width: 32px;\n",
              "  }\n",
              "\n",
              "  .colab-df-quickchart:hover {\n",
              "    background-color: var(--hover-bg-color);\n",
              "    box-shadow: 0 1px 2px rgba(60, 64, 67, 0.3), 0 1px 3px 1px rgba(60, 64, 67, 0.15);\n",
              "    fill: var(--button-hover-fill-color);\n",
              "  }\n",
              "\n",
              "  .colab-df-quickchart-complete:disabled,\n",
              "  .colab-df-quickchart-complete:disabled:hover {\n",
              "    background-color: var(--disabled-bg-color);\n",
              "    fill: var(--disabled-fill-color);\n",
              "    box-shadow: none;\n",
              "  }\n",
              "\n",
              "  .colab-df-spinner {\n",
              "    border: 2px solid var(--fill-color);\n",
              "    border-color: transparent;\n",
              "    border-bottom-color: var(--fill-color);\n",
              "    animation:\n",
              "      spin 1s steps(1) infinite;\n",
              "  }\n",
              "\n",
              "  @keyframes spin {\n",
              "    0% {\n",
              "      border-color: transparent;\n",
              "      border-bottom-color: var(--fill-color);\n",
              "      border-left-color: var(--fill-color);\n",
              "    }\n",
              "    20% {\n",
              "      border-color: transparent;\n",
              "      border-left-color: var(--fill-color);\n",
              "      border-top-color: var(--fill-color);\n",
              "    }\n",
              "    30% {\n",
              "      border-color: transparent;\n",
              "      border-left-color: var(--fill-color);\n",
              "      border-top-color: var(--fill-color);\n",
              "      border-right-color: var(--fill-color);\n",
              "    }\n",
              "    40% {\n",
              "      border-color: transparent;\n",
              "      border-right-color: var(--fill-color);\n",
              "      border-top-color: var(--fill-color);\n",
              "    }\n",
              "    60% {\n",
              "      border-color: transparent;\n",
              "      border-right-color: var(--fill-color);\n",
              "    }\n",
              "    80% {\n",
              "      border-color: transparent;\n",
              "      border-right-color: var(--fill-color);\n",
              "      border-bottom-color: var(--fill-color);\n",
              "    }\n",
              "    90% {\n",
              "      border-color: transparent;\n",
              "      border-bottom-color: var(--fill-color);\n",
              "    }\n",
              "  }\n",
              "</style>\n",
              "\n",
              "  <script>\n",
              "    async function quickchart(key) {\n",
              "      const quickchartButtonEl =\n",
              "        document.querySelector('#' + key + ' button');\n",
              "      quickchartButtonEl.disabled = true;  // To prevent multiple clicks.\n",
              "      quickchartButtonEl.classList.add('colab-df-spinner');\n",
              "      try {\n",
              "        const charts = await google.colab.kernel.invokeFunction(\n",
              "            'suggestCharts', [key], {});\n",
              "      } catch (error) {\n",
              "        console.error('Error during call to suggestCharts:', error);\n",
              "      }\n",
              "      quickchartButtonEl.classList.remove('colab-df-spinner');\n",
              "      quickchartButtonEl.classList.add('colab-df-quickchart-complete');\n",
              "    }\n",
              "    (() => {\n",
              "      let quickchartButtonEl =\n",
              "        document.querySelector('#df-1850236c-ec11-4849-a738-98d0270ad64f button');\n",
              "      quickchartButtonEl.style.display =\n",
              "        google.colab.kernel.accessAllowed ? 'block' : 'none';\n",
              "    })();\n",
              "  </script>\n",
              "</div>\n",
              "\n",
              "    </div>\n",
              "  </div>\n"
            ],
            "application/vnd.google.colaboratory.intrinsic+json": {
              "type": "dataframe",
              "variable_name": "X",
              "summary": "{\n  \"name\": \"X\",\n  \"rows\": 1599,\n  \"fields\": [\n    {\n      \"column\": \"payment_history\",\n      \"properties\": {\n        \"dtype\": \"number\",\n        \"std\": 1.7410963181277006,\n        \"min\": 4.6,\n        \"max\": 15.9,\n        \"num_unique_values\": 96,\n        \"samples\": [\n          5.3,\n          12.7,\n          12.6\n        ],\n        \"semantic_type\": \"\",\n        \"description\": \"\"\n      }\n    },\n    {\n      \"column\": \"location_parameter\",\n      \"properties\": {\n        \"dtype\": \"number\",\n        \"std\": 0.17905970415353498,\n        \"min\": 0.12,\n        \"max\": 1.58,\n        \"num_unique_values\": 143,\n        \"samples\": [\n          1.025,\n          0.4,\n          0.87\n        ],\n        \"semantic_type\": \"\",\n        \"description\": \"\"\n      }\n    },\n    {\n      \"column\": \"stem_degree_score\",\n      \"properties\": {\n        \"dtype\": \"number\",\n        \"std\": 0.19480113740531785,\n        \"min\": 0.0,\n        \"max\": 1.0,\n        \"num_unique_values\": 80,\n        \"samples\": [\n          0.37,\n          0.0,\n          0.09\n        ],\n        \"semantic_type\": \"\",\n        \"description\": \"\"\n      }\n    },\n    {\n      \"column\": \"gpa_ranking\",\n      \"properties\": {\n        \"dtype\": \"number\",\n        \"std\": 1.4099280595072805,\n        \"min\": 0.9,\n        \"max\": 15.5,\n        \"num_unique_values\": 91,\n        \"samples\": [\n          11.0,\n          3.0,\n          15.5\n        ],\n        \"semantic_type\": \"\",\n        \"description\": \"\"\n      }\n    },\n    {\n      \"column\": \"alumni_success\",\n      \"properties\": {\n        \"dtype\": \"number\",\n        \"std\": 0.047065302010090154,\n        \"min\": 0.012,\n        \"max\": 0.611,\n        \"num_unique_values\": 153,\n        \"samples\": [\n          0.096,\n          0.343,\n          0.159\n        ],\n        \"semantic_type\": \"\",\n        \"description\": \"\"\n      }\n    },\n    {\n      \"column\": \"study_major_code\",\n      \"properties\": {\n        \"dtype\": \"number\",\n        \"std\": 10.46015696980973,\n        \"min\": 1.0,\n        \"max\": 72.0,\n        \"num_unique_values\": 60,\n        \"samples\": [\n          11.0,\n          9.0,\n          32.0\n        ],\n        \"semantic_type\": \"\",\n        \"description\": \"\"\n      }\n    },\n    {\n      \"column\": \"time_to_completion\",\n      \"properties\": {\n        \"dtype\": \"number\",\n        \"std\": 32.89532447829901,\n        \"min\": 6.0,\n        \"max\": 289.0,\n        \"num_unique_values\": 144,\n        \"samples\": [\n          68.0,\n          35.0,\n          101.0\n        ],\n        \"semantic_type\": \"\",\n        \"description\": \"\"\n      }\n    },\n    {\n      \"column\": \"finance_workshop_score\",\n      \"properties\": {\n        \"dtype\": \"number\",\n        \"std\": 0.0018873339538425559,\n        \"min\": 0.99007,\n        \"max\": 1.00369,\n        \"num_unique_values\": 436,\n        \"samples\": [\n          0.99974,\n          1.0001,\n          0.99471\n        ],\n        \"semantic_type\": \"\",\n        \"description\": \"\"\n      }\n    },\n    {\n      \"column\": \"cohort_ranking\",\n      \"properties\": {\n        \"dtype\": \"number\",\n        \"std\": 0.15438646490354266,\n        \"min\": 2.74,\n        \"max\": 4.01,\n        \"num_unique_values\": 89,\n        \"samples\": [\n          3.07,\n          3.0,\n          3.15\n        ],\n        \"semantic_type\": \"\",\n        \"description\": \"\"\n      }\n    },\n    {\n      \"column\": \"total_loan_score\",\n      \"properties\": {\n        \"dtype\": \"number\",\n        \"std\": 0.16950697959010977,\n        \"min\": 0.33,\n        \"max\": 2.0,\n        \"num_unique_values\": 96,\n        \"samples\": [\n          1.07,\n          1.04,\n          1.18\n        ],\n        \"semantic_type\": \"\",\n        \"description\": \"\"\n      }\n    },\n    {\n      \"column\": \"financial_aid_score\",\n      \"properties\": {\n        \"dtype\": \"number\",\n        \"std\": 1.0656675818563965,\n        \"min\": 8.4,\n        \"max\": 14.9,\n        \"num_unique_values\": 65,\n        \"samples\": [\n          8.5,\n          9.95,\n          9.4\n        ],\n        \"semantic_type\": \"\",\n        \"description\": \"\"\n      }\n    }\n  ]\n}"
            }
          },
          "metadata": {},
          "execution_count": 103
        }
      ],
      "source": [
        "# Define features set X by selecting all columns but credit_ranking\n",
        "X = loans_df.drop(columns=[\"credit_ranking\"])\n",
        "\n",
        "# Review the features DataFrame\n",
        "X.head()"
      ]
    },
    {
      "cell_type": "markdown",
      "metadata": {
        "id": "QmM9c-tj6q6z"
      },
      "source": [
        "### Step 3: Split the features and target sets into training and testing datasets.\n"
      ]
    },
    {
      "cell_type": "code",
      "execution_count": 104,
      "metadata": {
        "id": "OD7xwU_96q6z"
      },
      "outputs": [],
      "source": [
        "# Split the preprocessed data into a training and testing dataset\n",
        "# Assign the function a random_state equal to 1\n",
        "X_train, X_test, y_train, y_test = train_test_split(X, y, random_state=1)"
      ]
    },
    {
      "cell_type": "markdown",
      "metadata": {
        "id": "G9i6DHY06q6z"
      },
      "source": [
        "### Step 4: Use scikit-learn's `StandardScaler` to scale the features data."
      ]
    },
    {
      "cell_type": "code",
      "execution_count": 105,
      "metadata": {
        "id": "BzD3z20m6q6z"
      },
      "outputs": [],
      "source": [
        "# Create a StandardScaler instance\n",
        "X_scaler = StandardScaler()\n",
        "\n",
        "# Fit the scaler to the features training dataset\n",
        "X_scaler.fit(X_train)\n",
        "\n",
        "# Fit the scaler to the features training dataset\n",
        "X_train_scaled = X_scaler.transform(X_train)\n",
        "X_test_scaled = X_scaler.transform(X_test)"
      ]
    },
    {
      "cell_type": "markdown",
      "metadata": {
        "id": "CZzVDjba6q6z"
      },
      "source": [
        "---\n",
        "\n",
        "## Compile and Evaluate a Model Using a Neural Network"
      ]
    },
    {
      "cell_type": "markdown",
      "metadata": {
        "id": "m-pSux4Q6q60"
      },
      "source": [
        "### Step 1: Create a deep neural network by assigning the number of input features, the number of layers, and the number of neurons on each layer using Tensorflow’s Keras.\n",
        "\n",
        "> **Hint** You can start with a two-layer deep neural network model that uses the `relu` activation function for both layers.\n"
      ]
    },
    {
      "cell_type": "code",
      "execution_count": 106,
      "metadata": {
        "colab": {
          "base_uri": "https://localhost:8080/"
        },
        "id": "t5C94FCd6q60",
        "outputId": "63638cf5-1f2f-4741-dc6b-91430c64af4e"
      },
      "outputs": [
        {
          "output_type": "stream",
          "name": "stdout",
          "text": [
            "11\n"
          ]
        }
      ],
      "source": [
        "# Define the the number of inputs (features) to the model\n",
        "input_features = X.shape[1]\n",
        "\n",
        "# Review the number of features\n",
        "print(input_features)"
      ]
    },
    {
      "cell_type": "code",
      "execution_count": 107,
      "metadata": {
        "id": "c_KXDLkF6q60"
      },
      "outputs": [],
      "source": [
        "# Define the number of hidden nodes for the first hidden layer\n",
        "hidden_nodes_layer1 = 6\n",
        "\n",
        "# Define the number of hidden nodes for the second hidden layer\n",
        "hidden_nodes_layer2 = 3\n",
        "\n",
        "# Define the number of neurons in the output layer\n",
        "output_neurons = 1"
      ]
    },
    {
      "cell_type": "code",
      "execution_count": 108,
      "metadata": {
        "id": "63UdFncw6q60",
        "colab": {
          "base_uri": "https://localhost:8080/"
        },
        "outputId": "0e9886e5-ef8d-47cf-9bf8-b64df819d9d4"
      },
      "outputs": [
        {
          "output_type": "stream",
          "name": "stderr",
          "text": [
            "/usr/local/lib/python3.11/dist-packages/keras/src/layers/core/dense.py:87: UserWarning: Do not pass an `input_shape`/`input_dim` argument to a layer. When using Sequential models, prefer using an `Input(shape)` object as the first layer in the model instead.\n",
            "  super().__init__(activity_regularizer=activity_regularizer, **kwargs)\n"
          ]
        }
      ],
      "source": [
        "# Create the Sequential model instance\n",
        "model = Sequential()\n",
        "\n",
        "# Add the first hidden layer\n",
        "model.add(Dense(units=hidden_nodes_layer1, input_dim=input_features, activation=\"relu\"))\n",
        "\n",
        "# Add the second hidden layer\n",
        "model.add(Dense(units=hidden_nodes_layer2, activation=\"relu\"))\n",
        "\n",
        "# Add the output layer to the model specifying the number of output neurons and activation function\n",
        "model.add(Dense(units=output_neurons, activation=\"sigmoid\"))"
      ]
    },
    {
      "cell_type": "code",
      "execution_count": 109,
      "metadata": {
        "colab": {
          "base_uri": "https://localhost:8080/",
          "height": 238
        },
        "id": "-Beoh4f_6q61",
        "outputId": "36740240-58b4-4577-b638-65b29c957f88"
      },
      "outputs": [
        {
          "output_type": "display_data",
          "data": {
            "text/plain": [
              "\u001b[1mModel: \"sequential_4\"\u001b[0m\n"
            ],
            "text/html": [
              "<pre style=\"white-space:pre;overflow-x:auto;line-height:normal;font-family:Menlo,'DejaVu Sans Mono',consolas,'Courier New',monospace\"><span style=\"font-weight: bold\">Model: \"sequential_4\"</span>\n",
              "</pre>\n"
            ]
          },
          "metadata": {}
        },
        {
          "output_type": "display_data",
          "data": {
            "text/plain": [
              "┏━━━━━━━━━━━━━━━━━━━━━━━━━━━━━━━━━━━━━━┳━━━━━━━━━━━━━━━━━━━━━━━━━━━━━┳━━━━━━━━━━━━━━━━━┓\n",
              "┃\u001b[1m \u001b[0m\u001b[1mLayer (type)                        \u001b[0m\u001b[1m \u001b[0m┃\u001b[1m \u001b[0m\u001b[1mOutput Shape               \u001b[0m\u001b[1m \u001b[0m┃\u001b[1m \u001b[0m\u001b[1m        Param #\u001b[0m\u001b[1m \u001b[0m┃\n",
              "┡━━━━━━━━━━━━━━━━━━━━━━━━━━━━━━━━━━━━━━╇━━━━━━━━━━━━━━━━━━━━━━━━━━━━━╇━━━━━━━━━━━━━━━━━┩\n",
              "│ dense_12 (\u001b[38;5;33mDense\u001b[0m)                     │ (\u001b[38;5;45mNone\u001b[0m, \u001b[38;5;34m6\u001b[0m)                   │              \u001b[38;5;34m72\u001b[0m │\n",
              "├──────────────────────────────────────┼─────────────────────────────┼─────────────────┤\n",
              "│ dense_13 (\u001b[38;5;33mDense\u001b[0m)                     │ (\u001b[38;5;45mNone\u001b[0m, \u001b[38;5;34m3\u001b[0m)                   │              \u001b[38;5;34m21\u001b[0m │\n",
              "├──────────────────────────────────────┼─────────────────────────────┼─────────────────┤\n",
              "│ dense_14 (\u001b[38;5;33mDense\u001b[0m)                     │ (\u001b[38;5;45mNone\u001b[0m, \u001b[38;5;34m1\u001b[0m)                   │               \u001b[38;5;34m4\u001b[0m │\n",
              "└──────────────────────────────────────┴─────────────────────────────┴─────────────────┘\n"
            ],
            "text/html": [
              "<pre style=\"white-space:pre;overflow-x:auto;line-height:normal;font-family:Menlo,'DejaVu Sans Mono',consolas,'Courier New',monospace\">┏━━━━━━━━━━━━━━━━━━━━━━━━━━━━━━━━━━━━━━┳━━━━━━━━━━━━━━━━━━━━━━━━━━━━━┳━━━━━━━━━━━━━━━━━┓\n",
              "┃<span style=\"font-weight: bold\"> Layer (type)                         </span>┃<span style=\"font-weight: bold\"> Output Shape                </span>┃<span style=\"font-weight: bold\">         Param # </span>┃\n",
              "┡━━━━━━━━━━━━━━━━━━━━━━━━━━━━━━━━━━━━━━╇━━━━━━━━━━━━━━━━━━━━━━━━━━━━━╇━━━━━━━━━━━━━━━━━┩\n",
              "│ dense_12 (<span style=\"color: #0087ff; text-decoration-color: #0087ff\">Dense</span>)                     │ (<span style=\"color: #00d7ff; text-decoration-color: #00d7ff\">None</span>, <span style=\"color: #00af00; text-decoration-color: #00af00\">6</span>)                   │              <span style=\"color: #00af00; text-decoration-color: #00af00\">72</span> │\n",
              "├──────────────────────────────────────┼─────────────────────────────┼─────────────────┤\n",
              "│ dense_13 (<span style=\"color: #0087ff; text-decoration-color: #0087ff\">Dense</span>)                     │ (<span style=\"color: #00d7ff; text-decoration-color: #00d7ff\">None</span>, <span style=\"color: #00af00; text-decoration-color: #00af00\">3</span>)                   │              <span style=\"color: #00af00; text-decoration-color: #00af00\">21</span> │\n",
              "├──────────────────────────────────────┼─────────────────────────────┼─────────────────┤\n",
              "│ dense_14 (<span style=\"color: #0087ff; text-decoration-color: #0087ff\">Dense</span>)                     │ (<span style=\"color: #00d7ff; text-decoration-color: #00d7ff\">None</span>, <span style=\"color: #00af00; text-decoration-color: #00af00\">1</span>)                   │               <span style=\"color: #00af00; text-decoration-color: #00af00\">4</span> │\n",
              "└──────────────────────────────────────┴─────────────────────────────┴─────────────────┘\n",
              "</pre>\n"
            ]
          },
          "metadata": {}
        },
        {
          "output_type": "display_data",
          "data": {
            "text/plain": [
              "\u001b[1m Total params: \u001b[0m\u001b[38;5;34m97\u001b[0m (388.00 B)\n"
            ],
            "text/html": [
              "<pre style=\"white-space:pre;overflow-x:auto;line-height:normal;font-family:Menlo,'DejaVu Sans Mono',consolas,'Courier New',monospace\"><span style=\"font-weight: bold\"> Total params: </span><span style=\"color: #00af00; text-decoration-color: #00af00\">97</span> (388.00 B)\n",
              "</pre>\n"
            ]
          },
          "metadata": {}
        },
        {
          "output_type": "display_data",
          "data": {
            "text/plain": [
              "\u001b[1m Trainable params: \u001b[0m\u001b[38;5;34m97\u001b[0m (388.00 B)\n"
            ],
            "text/html": [
              "<pre style=\"white-space:pre;overflow-x:auto;line-height:normal;font-family:Menlo,'DejaVu Sans Mono',consolas,'Courier New',monospace\"><span style=\"font-weight: bold\"> Trainable params: </span><span style=\"color: #00af00; text-decoration-color: #00af00\">97</span> (388.00 B)\n",
              "</pre>\n"
            ]
          },
          "metadata": {}
        },
        {
          "output_type": "display_data",
          "data": {
            "text/plain": [
              "\u001b[1m Non-trainable params: \u001b[0m\u001b[38;5;34m0\u001b[0m (0.00 B)\n"
            ],
            "text/html": [
              "<pre style=\"white-space:pre;overflow-x:auto;line-height:normal;font-family:Menlo,'DejaVu Sans Mono',consolas,'Courier New',monospace\"><span style=\"font-weight: bold\"> Non-trainable params: </span><span style=\"color: #00af00; text-decoration-color: #00af00\">0</span> (0.00 B)\n",
              "</pre>\n"
            ]
          },
          "metadata": {}
        }
      ],
      "source": [
        "# Display the Sequential model summary\n",
        "model.summary()"
      ]
    },
    {
      "cell_type": "markdown",
      "source": [
        "![image.png](data:image/png;base64,iVBORw0KGgoAAAANSUhEUgAAAkwAAAEVCAYAAAASDbphAAAAAXNSR0IArs4c6QAAAARnQU1BAACxjwv8YQUAAAAJcEhZcwAADsMAAA7DAcdvqGQAAERzSURBVHhe7d1faCPZmT/8b+9VJpXI3ReRkkYaCiPDuB05EIiNjGFM8Fy4wUODmHZgfvKYWQtjWPki+r3xTbezaPpG846WYG0QxsZ0LALjXgxNexlfjAhuxljb3mWZkcbtCxtTtEXPqgKbtjKVyZ3fG5/zVpUkl2T5f38/YOiuU3Wkqjqleuo5p6qu/e///u8B6vTGG2/YJxERERFdedcODg7qDpiIiIiIXkf/YJ9ARERERFYMmIiIiIgcMGAiIiIicsCAiYiIiMgBAyYiIiIiBwyYiIiIiBwwYCIiIiJywICJiIiIyAEDJiIiIiIHDJiIiIiIHFy4gKlQKGBgYAC6rtuLqorFYlBVFaqqIp1O24ubks1m0d7ejkKhgHQ6jZ6enrq/12WXTqehqiqy2ay96EhH7Q/DMDA0NIRYLAZd19HT01MxDxER0UXUdMBUKBTQ3t5uOfHFYrEzCy6SySQ0TUMoFLIXUQ0icGk0GKoH9wcREV1FTQdMpVIJ169fx//8z/8AAHRdR7FYREtLi33WS8fj8UBVVXg8HrS1tcHn80FRFPtsV9L4+Dg0TUN/f7+96NgURYHX64Xf74eiKPD5fGhra7PPRkREdOE0HTABwE9/+lN8++230HUd+Xwe7777LnAYTMGUhRJdNbFYzLJ8NpuVZYODg9jf35dlIhtSa9l6pNNp2bXWiEAggJWVFbjdbvT392NxcdESMJm/d7UuKNGtpapqRcbNvl7m5XVdx8DAgOX7xmIxS/216jYMA5FIBNlsFj09PRXlsVgMHR0dePbsGUZHR6t+tliu1jYzf3ateWpJJpMYHx+HoihYXFw80YCMiIjotPzD//lgGP/ng2EZ3ByHy+WC3+9HPp/HV199hZ/97GeyTNd1jI2NIZVKQdM0bGxsIJfLyRN0oVDA/fv3sby8DE3TsLy8bMlOTU1Nwev1QtM0bG5uolgsVgQm50HXdSSTSfm9NU3D+Pi4LM9ms8hkMtjY2ICmaQiHw4hGozAMA7CtV6NdWE51l8tlRKNRzMzMYHNzEz6fD0tLS8BhwLK5uYnu7m7Mzc1VfHe324319XVsbGxAVVXL5+Jwf7lcLrncxMQEHjx4ID+biIjoKvqHUqmE/yf2f+HxeOxlddne3gYA9Pb2YnFxETg86QpLS0vw+XwIBoOyLB6PY3V1FYZh4OHDhxgeHkYgEJDLCKJ7b3JyEjjs0olEInLZeo2Pj2Nra6vqZzRjf38fa2tr9skAgJWVFcTjcbktQqEQyuUydnd3USgU8Pz5c7lejTqqbiGVSiEQCEBRFPT19WFnZ8dUw/EFAgG8//778v+9vb0ol8sN7Q8iIqLL5h8++fj/xc86O+3TG9ba2opyuYyf/exncqyK4PV6jzX2p1QqIZ/Po6urS3YBjY6O2mc7F263GzMzM5ienq7o9jIMA8Vi0dLl1dXVBU3T7NU07DTrroe9K9HehUpERHQV/cNJBEtiEK95TEq5XJbdfMVi0ZKBEFmpeqiqKruexJ99LNF5CQQC2Nrakt1id+7csYxTMnd5aZp2olmu06z7KFNTUwCAzc1NaFW6UImIiK6iExn0fZTe3l7k83nkcjngsJstk8kgEolAURT4/X7ZxSbGO4mMRWtrK1wuFxKJhK3Wxhx30HcjzHd7iW6wqampqo9W8Hg82N/fRz6fBw6/nxhjJOzv78uA01zuVHc9RAZwZWXFXlQXkTE0DAMPHjxghomIiK68pgMmp7ExgUAAjx49QjQald1H4XBYZqKGh4cBAB0dHXj77bcRj8fh8/mAwxP7/Pw8isWi7AJSa9zRtbS0hEQiYSk/TfY75MQgazGuaHx8HOFw2NKdODQ0BMMw5Dgu0a22s7NjGfTtVH5U3fWanJxELper2KZivbq6urC1tYXBwUFLsDkyMoLPPvsMqqqio6MDv/jFL2SG6Tz3BxER0Wm6dnBwcGCfSGcvFovB7/db7rQjIiKii6HpDBMRERHRVceAiYiIiMgBu+SIiIiIHDDDREREROSAARMRERGRAwZMRERERA4YMBERERE5YMBERERE5IABExEREZEDBkxEREREDhgwERERETlgwERERETkgAETERERkQMGTEREREQOGDAREREROWDAREREROSAARMRERGRAwZMRERERA4YMBERERE5uHZwcHBgn1gvXddx584dvHz50l4EAPjlL3+JXC6H7777zl4EAHj77bfx9OlT+2QAwPe+9z388Ic/xJ///Gd7EdBk3W+88QaCwSD+9Kc/2YsAAB6PBwBQKpXsRQCAn/70p/j666/tk4ETqNtpvY767Gbrbmab/ehHP8Jf//pX/P3vf7cXAU3W3ex6cZtVOmqbNFt3M9uMx33j63We2+w827DTeh21v5qtu5n1usjbbHJyEuPj4/bJdKipgImIiIjodcAuOSIiIiIHDJiIiIiIHDBgIiIiInLAgKlO2WwWQ0NDMAzDXnQuYrEYstmsfTLRlafrOgYGBlAoFOxFRESn5kwCpnQ6jVgsZp98aRQKBdy/fx/37t2DoiiW6QMDA9B13TL/WRgZGcH9+/d50iCk02moqgpVVdHe3t5QmzjNNmwYBoaGho4V2Ou6jp6eHrleqqoeqx56vcViMUsb6unpOZW2fhoKhQIikQgMw7j059Cr4kwCpsvMMAw8ePAAw8PDCAQC9uJzEwgE8NFHH+HBgwcXJutFZy+dTmN1dRWbm5vQNA0TExMYGxu7NCeFagzDQDQaRTgchqZp8q+/v98+K5GjUCgk21A4HMadO3cuzfFx8+ZNeZHu9/vtxXTGLkTAlM1mq15JZrPZiisC+zT7lWg6nZbziqvnr7/+Ws7TaLdaLpcDAAwPD8tp4jMHBwextbWFrq4uy9W9KDdfEZunGYaBSCQi16Xalc9R6yUEg0HA9B3p9aLrOp48eWLJfA4PD8Pn8yGfz1fN8IgrVac2LOYV89uPzaPqxuGVfUdHB549e4bR0dEj27Hd7u4uXrx4gd7eXnuRRT6fR3t7e9XjutZvChzWC6Z1E2W8sr86QqEQcNh2UGVfm9uRuY2LtmLP4NZqZ7quY2hoCL/97W+hqio++eQTDA0NVSxfjfjcwcFB/OEPf4CqqkgkEkgkEhXnCTpb5x4w6bqOr776Sl4BzM3NYWpqCrquo7OzEzA1bgBYWVlBMBiE2+2uuBLd2NhAJpOx/Phpmob33nsPMzMz2NjYwN7eXkMBxsrKCvr6+ixdcW63G+vr61heXkZ7ezs2NjagaRq2trYQCATgdrsRDAaxsrIilxHrINapXC4jGo1iZmYGmqYhGAwikUgAVa6wq60XACiKgr6+Psvn0OtDPJxOPKwOh23C6/U6tgmnNiwkEgn4/f6KY9NJMpnE5uYmuru7MTc3J4/veh6K19raijfffBN3796teXLZ39/H73//ezx9+rTiuD7qN0U4ar2mpqbg9XqhaRo2NzdRLBbrCvTo8nn8+DHu3bsn9zUALCwsWOYZHR2VbeX27dt4+PAhUEc729vbw7fffou5uTn867/+KyKRCG7fvo21tTVL/XaKomBxcRGTk5OYnJy0HEfr6+twu932ReiMnHvA5Ha7LVdwnZ2daGlpQalUgtvtRjgclj/+uq7j+fPnGBkZAQ6vRF0ul8z+2OcXUqmUJZDZ3t62lNdiGAaKxSLa2trsRY5GRkbw/PlzefCsrKwgHA5bGrv4XgAwMDCAYrEIwzDqXi8AaGtrk8vR66VUKsHlclmCeZxw6j4UCskgx3xsniZxwpiYmMDg4CDUKpmplpYWzMzMwO12VxzXR/2mCLXWS9d1FItFTE5OAoffJRKJYHV1lcfYFZBIJODz+WR2/v3335e/weICdGdnx7KMua2Yf6ed2llLS4s8V3V3d8vPbJRhGCiXy5YLIzof5x4wwTYwr6urC5qmybLe3l4ZeOTzedy6dUs28FKphM8//xwdHR1yeZGlEVRVlVkdHF751nOVi8OGure3Z59cl9bWVrhcLuTzefkjLNLBtezt7cEwjLrWS/B4PCiXy/wxfw3V2vc7OzsnGjSZ7e/vn3rAJIyPj0PTNCwvL2N6erqhrrGjflOqEetVKpWQz+dlF6WqqhgdHbXPTpfI0tKS3JfFYhHz8/PyIqNQKMhu3Vq/swMDA/Lf/f39WFxclMs32s7qIb6T6Ibr6urC1tYWBgcHKy4c6Gyde8CUTqeRy+Vkl8DGxgZUVZXl5sBjZWXF0nhxGLmLAa/iL5lMWuY5LkVR4PP57JPrYu4uy+fz8Hq9jqlUn88nD8R616tWloGuvmrvjWomK1qPlpaWM7/SDQQCmJiYqDuT6vSbUo15vVRVlcuKP/NJki4X86Bv837UdR1jY2OYmJiQ5SKzWI/jtLN6BAIB/Nd//ZfshjN3m9d7sU+n49wDJtgChUQiAc0UpYuU+P3791Euly1pzc7OTuzt7VX0OZ8UMR6kVheex+PB/v6+ZYyVWSgUwvPnz/HJJ5/I1Gw1uq5jampKjpVqZL22t7fh9Xr5Y/4acrvduHXrluVOSdFmzMeJaL/ZbLbiCtqpDZslEgm4XC60trbKaUfVLY6fal3JjTAMA6urqw2186N+U+zM6yUu0OzrQleXuLgoFAqYnp62Fx+pkXbWKJfLJYP4Rto+nZ4zC5jMaVHVdOdJKBTC3t6e7H76wQ9+UBGld3Z24tq1a/j5z39uaTRutxuPHz9GJpOx1G0fHN2MgYEBZDKZqgNd3W434vG4vAvIfgeEOKG1tLRYTjKCWK6rqwvhcFhePdS7XuJEYs+60esjmUzC6/XK42d1dVV2OSiKgnv37mF6ehqqqmJ2dhb/9E//ZFneqQ3X6s6op24cvv08l8vJOurpUrDfedTR0QGv11s1w1pNPb8pR63X/Pw8isWi5TvU873pchFjQ0XbHxsbw927d+2z1VRPOzsukSnGYQa5XC7bZ6FzcO3g4ODAPvGi0XUdH3zwAT7++OMzfxaSYRj48MMP0dfXd6x0aCwWg9/vtywr6oxEIk09WyabzWJ2dtbSJ090UtLpNHZ2duoOVC6Lq7peRHS6zizD1IxEImEZ7H2WxJX0wsJCzVuca8lms8jlco6DvY+jUOPp40RERHTyLnTAJO5AKBaLiMfj9uIz0+hTtUWXgnjOktNg7+N4+PAhPvroo3MJIomIiF43l6JLjoiIiOg8XegMExEREdFFwICJiIiIyAEDJiIiIiIHDJiIiIiIHDBgIiIiInLAgImIiIjIAQMmIiIiIgcMmIiIiIgcNP3gSl3XcefOHbx8+dIyvbu7G/Pz89jd3cXdu3fx3XffWcpDoRCSySTS6XTVN4PPzc2hs7Pz1Oru7+9HLBbD0tKSpeyNN97Ao0eP4PF4jvzshYWFU6vbab1Os+5mthmAU6u72fU6zbqbWS+c4zY7zzZ81HrxuG98vc5zm+Ec27DTep1m3c2sFy7wNqPamg6YiIiIiK66pgMmZpisTqJup/U6zbqb2Wa4wFdNp1l3M+uFc9xm59mGj1ovHveNr9d5bjOcYxt2Wq/TrLuZ9cIF3mZUW9MBExEREdFVx0HfRERERA4YMBERERE5YMBERERE5IABExEREZEDBkxEREREDhgwERERETlgwERERETkgAETERERkQMGTEREREQOzjxgMgwDQ0NDyGaz9qILLZvNYmhoCIZh2IsuHF3XMTQ0BF3X7UV0hem6joGBARQKBXvRlVMoFBCJRC7F8UhEV8OZB0yXUaFQwP3793Hv3j0oiiKDPlVV5V9PT8+FCVDcbjf6+voQjUZ5QnlNGIaBaDSKd999F4FAADhst+3t7YjFYnK+yxb49/T0yGPMfJEVCATgcrkwNTVlWYZIqPY7raoq2tvb5UWFOEaqtTEiOwZMDgzDwIMHDzA8PCxPRMLk5CQ0TYOmaQgGg7hz586FCZrGx8fh9XqxsLBgL6IrSOzn4eFhy/Tr16+jWCxemHZZr0KhgLfffhvxeFweY/39/ZZ54vE4isUiT3JUlaIoWFxclO1H0zTMzc3hxo0b8Hg8MAwD09PTePTokSyLRqOvRYaWjudMAibzlWJHRweePXtmKc9ms1Wjf8MwEIlEkM1m5fL2TI79KtR+9Vyr7nrlcjmgyonILh6Pw+fzWd4gnU6n5Webv/dJrFetus1GRkbw5MmTqmV0dei6jidPnsgMqNn169fx1ltvVbzZXDC3I9V2hZ1Op5FOpxGLxaqW26/gzZmsZj18+BCpVKoiSDJTFAWRSASzs7OXImNG529lZQXhcBhutxuKomB2dlZeCHd2duLGjRsolUr2xYiAswiYRFdBOByGpmnY3NxEd3e3LBfdXcvLy9A0DalUCmNjY/IkXy6XEY1GMTMzg83NzYqgJJFIyLo1TcPi4qI8aTjVXY+VlRX09fVVnIjsFEWB1+vFzs4OcBioZTIZbGxsQNM0hMNhSxdZM+vlVLfQ2toKl8uFfD5vmU5XSz6fh8vlQmtrq70IAPDee+9hZ2enon3Y21G1K+xEIgG/3w9N0zA5OWkJTqampuD1euVxXSwWkU6nTZ9wPLqu4/nz5/jyyy8dLwo6OztRLpexu7trLyKyKBQKeP78OUKhkL2IqC6nHjA5ZWjW1tYs3V3BYBA+n89ykk+lUggEAlAUBX19fTIoEVZXVytOBqiz7qMYhoFisYi2tjZ7UVV+v1/+e2VlBfF4HG63GwAQCoUqftiPu1711A1TELe9vW2ZTlfL9vY2vF5vzaBetBNxLALA3/72N8zOzsqrbQDo7+/H7du3sba2JucLhUIYHx8HAPT29qJcLsMwDOi6jmKxiMnJScCU7anVZhtRKpWgaRq++eYbecEQDAarXhQoigKXy8WsADl6+PAh3n33Xdne7RKJBHw+H4LBoL2ICDiLgMnJzs4OEomEvJKs1mV3lHg8DgDo6Oio6DJotm7DMLC3t2efXJMIeESgNTo6Kj+7q6sLmqbZF6mp1no1Wrff768IxOhqqWf/joyM4IsvvrBPrvtiwK5UKiGfz6Orq0u2w9HRUftsx6aqqgzGcPj9RbBmxosCqkehUMD6+jp6e3vtRcBh93Mul0Mqlap54UF07gETbIOnxd9RYxfMzAP7lpeXEY1GLUFTs3X7fD775Kp0XUcul7Nkmebm5iyfu7W1VTFwvBan9aq37p2dHct3oqunnv3b2tqKly9f4ssvv7RMNwcaIhivl6qqsjtP/Jm7jo/L4/EAh0GZk0azwPR6evjwIXp6eqr+RqbTaUxPT2NmZqZm9okIZxEweTwevHjxQnYXTU1NWbI8AwMDmJ6ebngwdjUejwc3btyQ/2+27nqvXo3DcVo+nw/Dw8Oyi21qaqrquItGmderkbp5Mnk9tLW1oVgsVmRfzBRFsTz/7Pvf/z76+vqQyWRkO8rlctjb26trjIcYH5dIJOxFFuKmi0YGhLvdbty6dQsPHz6U0x4+fIhbt25VnNAMw0C5XJZBFpGdyC6NjIzYi2Sw9OjRo6rBFJHZqQdMgUAAw8PDGBwchKqq8Pv9lh/k/v5+pFIpWa4eMcDTzn4nWVdXF8LhsMwgNVO3MDAwYDmpmInuvo6ODni9XsvV9fj4OMLhsKXLwn6nWy1O61Vv3bu7uyiXy+js7LRMp6uls7MTe3t7ljFK1YgB0oK9HYmbEOxBSTWKomB+fh7FYlG2QVVVKwZ9d3Z24ubNm44BnZ14ZICoFwCSyaR9NscB7/R6Mw4fC1Mtu6TrOjKZDL777jvLOaLabykRAFw7ODg4sE+k/59hGPjwww/R19cnB79eFrFYDH6//9J9b2pcOp3G6uoq5ufnm+4SO0ni+PF6vVUDnmaIuiORSN3d7EREx3XqGabLTlEU3Lt3DwsLC8fu2jsP6XQaxWKx5t2JdLWI/XyRHlSaTqdl9vWkgyWYHmvAYImIzgIzTHXKZrOYnZ29cFfw1ei6jmg0ilQqVVf3Cl0Nuq7jgw8+wMcff1zR/XDVFAoFTE9P43e/+92FPx6J6GpgwERERETkgF1yRERERA4YMBERERE5YMBERERE5IABExEREZEDBkxEREREDhgwERERETlgwERERETkgAETERERkQMGTEREREQOGDAREREROWDAREREROSAARMRERGRAwZMRERERA4YMBERERE5YMBERERE5IABExEREZEDBkxEREREDhgwERERETlgwERERETkgAETERERkYMzD5gMw8DQ0BCy2ay96MrSdR0DAwMoFAr2ogspnU4jnU7bJ9MFd9naWTMKhQIikQgMw7AXERGdijMPmC4bXdfR09ODoaGhY/04G4aBaDSKd999F4FAAACQzWahqqrl7yIFKKFQCJlM5rUKai+7au2sUCigvb0dsVhMzpfNZo/dls9SLBazHB/2thgIBOByuTA1NWWZTmQmLtBFOzIfC0Kzv/H0+mDAdIRsNos7d+7gnXfesRfVbWFhAQAwPDxsmX7z5k1sbGxA0zQsLy9jenr6wgRNbrcbMzMzSCaT0HXdXkwXUK12dv36dRSLxUu3H5PJJDRNk8fH/fv3KzJn8XgcxWKxIpgiEhYWFtDX1wdN07CxsYFcLmf5nT2J33h6fZxJwCQieFVV0dHRgWfPnlnKzRmX9vZ2+cNoGAYikQiy2axcvqenx/Ljb65bVdWKq4RadTvRdR0rKyv4/PPP8eMf/9heXBdd1/HkyRPcu3cPiqLYi6VAIIBUKoVMJiPXzb5e5oNcdJmZr8LNJw37VZXTNqsWqAUCAdy6dQtLS0v2Irpgjmpn169fx1tvvVVzP6bTadkO7O2o0XZW7er9JHg8Hly/ft0+GYqiIBKJYHZ2lpkBqmp8fBzj4+PA4YVgMBjEzs4OcEK/8fR6OfWASXQVhMNhaJqGzc1NdHd3y/JCoYD79+9jeXkZmqYhlUphbGxMnuDL5TKi0ShmZmawubkJn89n+fFPJBKybk3TsLi4KE8aTnUfxe12I5lMVpyAGpHP5+FyudDa2movquDxeHBwcIBSqVSxzTY2Niq6yBKJBPx+PzRNw+TkpOWksbCwAK/XK7fJ+vo63G43UGV/VKtbGBgYwOrqKk9GF5xTO3vvvfews7NTsR+z2SwymYzMdM7NzSEajVouKo5qZ1NTU7KdbW5uolgsVg2+m3XU+nV2dqJcLmN3d9deRHSkk/iNp9fLqQdMuVwOqNJVIKytrWF4eFiOuwgGg/D5fMjn83KeVCqFQCAARVHQ19cnrxCEWif1euo+Tdvb2/B6vXUdkOar6N3dXbhcLrnN3G43wuEwVlZW5PyhUEheOfX29qJcLlu2QS6XqxoY1lO34PF4Kuqli8epnYlgWRyLAPC3v/0Ns7OzCIfDsry/vx+3b9/G2tqanK9WO9N1HcViEZOTk4Ap21PrWGyUOXs1OjqKSCRSdf0URYHL5UKpVLIXEVlks1l89tlnGBkZsRcR1eXUAyYnOzs7SCQSMq1frcvuKPF4HADQ0dFR0WXQbN3Nsgd2RymVSnj16pX89+effy7XSVVVJBIJ+yI1jY+PIxgMoqurq6LLrZG6PR4PcLgMXVz1tLORkRF88cUX9sloa2uzT6pLqVRCPp+XbUwENidFURQsLi7K7NXs7GzV7JWiKPB6vdje3rYXEUmFQgHRaFRefBMdx7kHTAAwOTkpu4/EX39/v322qsw/rMvLy4hGo5agqZm6m+X3++2TalpbW8O1a9dkkNLd3Y3NzU3L904mk/bFahKDZkWXm/lkU2/dIlAS34kupnraWWtrK16+fIkvv/zSMt0caBiGgWKxaCk/iqqqsjtP/Jm7xE9KrcwyTN/5uIEfXX2FQgF3797FxMTEmf3209V06gGTx+PBixcv5BiDqakpS5ZnYGAA09PTdQ/GPorH48GNGzfk/0+y7uNoa2tDsVh07KLIZrNIJBKIx+Nwu93o7OzE3t6evPOpGYqiwOfzyf83UnepVILL5TrxEyCdrHramaIoluefff/730dfX5/lRoNcLoe9vT2EQiHb0pVaW1vhcrlqZicFcdNFMwPCdV1HJpPBwMCAvQiGYaBcLjOop6rMwZLoWiY6rlMPmAKBAIaHhzE4OAhVVeH3+y0/yP39/UilUrJcrXJXVy32u726uroQDoflVUQzdZvHUCQSCTx79gwdHR0Vd+EdRQQn5rEjwsuXL2V3RjQaxfLysvzebrcbjx8/RiaTkd9brfIsmmrM31s97Ib0er2WO0XqrXtlZQV9fX0MmC64o9qZmRggLYyPjyMcDlva4czMjBzTdBRFUTA/P49isWhpR/Zus87OTty8edMxoDOzt+Guri7E4/Gq2YGjBoQTPXz4EN99951laIa4W/okfuPp9XLt4ODgwD6RTk46ncbq6irm5+cvVeBRKBTwm9/8Bn/4wx/qOoHS+bqo7cwwDHz44Yfwer1Vu32bIeqORCJVgykiopN06hmm1524G62eLrCLQtd1jI2NIRaLMVi6JC5iO0un0zLDedLBEkyPNWCwRERn4bXNMMVisZoP87t58yYeP358YsGCruv44IMP8PHHH1+KOzREtwr7/C+Xy9bOmlEoFDA9PY3f/e53FyqjRkRX12sbMBERERHVi11yRERERA4YMBERERE5YMBERERE5IABExEREZEDBkxEREREDhgwERERETlgwERERETkgAETERERkQMGTEREREQOGDAREREROWDAREREROSAARMRERGRAwZMRERERA4YMBERERE5YMBERERE5IABExEREZEDBkxEREREDhgwERERETlgwERERETkgAETERERkQMGTEREREQOzjxgMgwDQ0NDyGaz9qIrS9d1DAwMoFAo2IsupHQ6jXQ6bZ9MF9xla2fNKBQKiEQiMAzDXkREdCrOPGC6TAqFAtrb26GqKlRVPVaQZxgGotEo3n33XQQCAQBANpuVdYq/ixSghEIhZDKZY60vnY9q7Uy031gsJufLZrMYGhq6FIGGruvo6emp+n0DgQBcLhempqYs04mqERfq7e3tr8UFBZ0OBkw1GIaB6elpPHr0CJqmYW5uDtFotOGDbWFhAQAwPDxsmX7z5k1sbGxA0zQsLy9jenr6wgRNbrcbMzMzSCaT0HXdXkwXUK12dv36dRSLxUu3H7PZLO7cuYN33nnHXiTF43EUi0UG9uRIHB+qqtqLiOp2JgGTuFJUVRUdHR149uyZpdyccTFfARiGgUgkgmw2K5fv6emx/Pib61ZVteJqtFbdThRFwezsrLxa7+zsxI0bN1Aqleyz1qTrOp48eYJ79+5BURR7sRQIBJBKpZDJZOS62dfLHEyJLrNYLCbLzScNcTUlypy2WbVALRAI4NatW1haWrIX0QVzVDu7fv063nrrrZr7MZ1Oy3Zgb0eNtjNzJqsZuq5jZWUFn3/+OX784x/biyVFURCJRDA7O1uRgSISCoUCFhYWEIlE7EVEDTn1gEl0FYTDYWiahs3NTXR3d8vyQqGA+/fvY3l5GZqmIZVKYWxsTJ7gy+UyotEoZmZmsLm5CZ/PZ/nxTyQSsm5N07C4uChPGk51n7Z8Pg+Xy4XW1lZ7UQWPx4ODgwOUSqWKbbaxsVHRRZZIJOD3+6FpGiYnJy0njYWFBXi9XrlN1tfX4Xa7gSr7o1rdwsDAAFZXV3kyuuCc2tl7772HnZ2div2YzWaRyWRkprNaFvWodjY1NSXb2ebmJorFYtXgu1FutxvJZLIi+Kums7MT5XIZu7u79iIiGIaBBw8eYHh4GJ2dnfZiooacesCUy+WAKl0FwtraGoaHh2UmJxgMwufzIZ/Py3lSqRQCgQAURUFfXx92dnZMNaDmSb2euuuVSCTg8/kQDAbtRTVtb2/D6/XW9cPv8Xhw/fp1AMDu7i5cLpfcZm63G+FwGCsrK3L+UCiE8fFxAEBvby/K5bJlG+RyuaqBYT11Cx6Pp6Jeunic2pkIlsWxCAB/+9vfMDs7i3A4LMv7+/tx+/ZtrK2tyflqtTNd11EsFjE5OQmYsj21jsXToigKXC5XQ5lfen04nX+IGnHqAZOTnZ0dJBIJmdav1mV3lHg8DgDo6Oio6DJotm4hnU4jl8shlUrVPClVYw/sjlIqlfDq1Sv5788//1yuk6qqSCQS9kVqGh8fRzAYRFdXV0WXWyN1ezwe4HAZurjqaWcjIyP44osv7JPR1tZmn1SXUqmEfD4v25iqqhgdHbXPduoURYHX68X29ra9iF5zuq4jmUxW7aomOo5zD5gAYHJyUnYfib/+/n77bFUpioLFxUVoh4Ono9GoJWhqpm4cBkvT09OYmZmRV+L18vv99kk1ra2t4dq1azJI6e7uxubmpuV7J5NJ+2I1JZNJS5ebOWiqt24RKInvRBdTPe2stbUVL1++xJdffmmZbg40DMNAsVi0lB9FVVXZnSf+zF3iZ0F85+MGfnR15fN5bG1tYXBwEKqqoqurS/7/pMbb0evl1AMmj8eDFy9eyDEGU1NTlizPwMAApqen6x6MfRSPx4MbN27I/zdbtwiWHj16JLv1GtHW1oZisejYRZHNZpFIJBCPx+F2u9HZ2Ym9vT15Z0czFEWBz+eT/2+k7lKpBJfLdaYnQGpcPe1MURTL88++//3vo6+vz3KjQS6Xw97eHkKhkG3pSq2trXC5XDWzk4K46eK0TlCGYaBcLjOopwr9/f2WYH5jYwPt7e1YXl6ueoFI5OTUA6ZAIIDh4WEZ5fv9fssPcn9/P1KplCxXq9zVVYv9bq+uri6Ew2GZQWq27kwmg++++86yvP0uvKOI4MQ8dkR4+fKl7M6IRqNYXl6W39vtduPx48fIZDLyc9U6nwNl2O5c6ujogNfrleNQGql7ZWUFfX19DJguuKPamZkYIC2Mj48jHA5b2mG9mVRFUTA/P49isWhpR/ZB352dnbh586ZjQGdmbsOJRALPnj1DR0dH1WPPacA7EdFJuXZwcHBgn0gnJ51OY3V1FfPz85cq8CgUCvjNb36DP/zhD3WdQOl8XdR2ZhgGPvzwQ3i93hO/qhd1RyKRhrrZiYiO49QzTK87cXdGPV1gF4Wu6xgbG0MsFmOwdElcxHaWTqdlhvOkgyWYHmvAYImIzsJrm2GKxWI1H+Z38+ZNPH78+MSCBV3X8cEHH+Djjz8+1liosya6VUQ3Hl0Ol62dNaNQKGB6ehq/+93vLlRGjYiurtc2YCIiIiKqF7vkiIiIiBwwYCIiIiJywICJiIiIyAEDJiIiIiIHDJiIiIiIHDBgIiIiInLAgImIiIjIAQMmIiIiIgcMmIiIiIgcMGAiIiIicsCAiYiIiMgBAyYiIiIiBwyYiIiIiBwwYCIiIiJywICJiIiIyAEDJiIiIiIHDJiIiIiIHDBgIiIiInLAgImIiIjIAQMmIiIiIgcMmIiIiIgcMGAiIiIicsCAiYiIiMgBAyYiIiIiBwyYiIiIiBwwYCIiIiJycO3g4ODAPrERuq7jzp07ePnypWV6d3c35ufnsbu7i7t37+K7776zlIdCISSTSaTTaSQSCUsZAMzNzaGzs/PU6u7v70csFsPS0pKl7I033sCjR4/g8XiO/OyFhYVTq9tpvU6z7ma2GYBTq7vZ9TrNuptZL5zjNjvPNnzUevG4b3y9znOb4RzbsNN6nWbdzawXLvA2o9qaDpiIiIiIrrqmAyZmmKxOom6n9TrNupvZZrjAV02nWXcz64Vz3Gbn2YaPWi8e942v13luM5xjG3Zar9Osu5n1wgXeZlRb0wETERER0VXHQd9EREREDhgwERERETlgwERERETkgAETERERkQMGTEREREQOGDAREREROWDAREREROSAARMRERGRg0sfMMViMaiqClVVkU6n7cV0jtLpNGKxmH0ynbBYLIZsNmufTEREJ6jpgCmbzcqAxfzX09MDXdfts1dVKBQwMDBQ9/xmyWQSmqYhFArZi6iGQqGA9vZ2ua/MJ1tzAGr+a/SEnM1mkclkMDk5KafZP3doaAiGYViWs3+++XN1XUdPT8+x2hgOA7hayxqGgaGhIVneSKBnrldVVbS3t6NQKNhnq0l8dqPbWBgZGcH9+/cb+kwiImpM0wFTf38/NE3D5uYmuru7MTk5CU3TsL6+DrfbbZ+dzpmu6xgbG0MqlYKmaVheXracbEUAKv6Wl5fxk5/8BB6Px15VTbquY2pqCvF43NIGAoEAtra2ZN1erxdTU1OyXGQIRfnc3Bympqag6zoMw0A0GkU8HpflwWCw6vuWqhEB3MbGhlw2Go3KgG1qagperxeapmFjYwO5XK6hjGV3dzc2NzehaRomJibw4MGDimDwtAQCAXz00Udn+plERK+bpgOmetgzC+LqXWQMBgcHsbW1ha6uroordPuVf7WsxHGl02nZbVQto3HUZ4us2Ndffy2zHvbvZs48mNcpm80iEolgaGgI7e3t+OMf/4j29nbL8vZsir1uHGZj7JkSJ0tLS/D5fAgGg8Dhybanpwdra2v2WQEAa2tr6OnpQSAQsBfVtLS0hGAwiP7+fnuRhd/vt/x/Z2fHMs3j8aClpQU43BflctkSuNmXr8UwDMzOziIcDssAbmRkBC9evMDu7i4KhQLW19cxMjICAHC73QiHw1hdXa3Y5vXo7e1FuVyGYRhyP1bLlGWzWcRiMXR0dODZs2cYHR2V+9scrJmzuLWyV2J/5nI5exEREZ2AUw+Y7BkN89W72+3G+vo6lpeX0d7eLq/+t7a25An68ePHuHfvHrTDLBYALCws2D7l+BKJBPx+f0VGA3V8tqZpeO+99zAzM4ONjQ3s7e3JE1ahUIDL5ZLZEHvW4fPPP0ckEsHt27fx+9//Hv/2b/+GcrmM3d1d+b3C4bBcfnFxEYqiyM9uhtfrtdTl9/uxs7NjmQeH++7JkycykKiHYRhYXV3FwMCAvcii2nwDAwNIJBLIZrMwDAMPHjzArVu34Ha74Xa7cevWLYyNjUHXdRQKBUxPTzt+DkzBVm9vL2Bqk9988w1KpRJKpRLefPNNtLa2AocBSiKRwN7e3rECprW1Ncv3DgaDWFlZkeX5fB4A0NnZiWQyKbOzc3Nzcn+Pj48Dh+3o/v37WF5ehqZpSKVSchuYKYqCvr4+y+cQEdHJOfWAyZ7RcLvdiMfjdV+9v//++zJ4EieFaif34wqFQvLk1NnZiZaWFpRKJaDOz06lUggEAvLEuL29DRxmbt5//305nznrgMMuHLFNzJkPM6dtlEwmG+767O3txfr6usxSiMCjmqWlJdy6dauh7FK1TJCZyJZ0dHQApswIDrt3NzY2MDU1hY6ODvT19SGZTMryZDKJeDyOrq4u3L17F48ePXLMYpkZhxnDrq4uxONxhEIhub9gyoROTU3h3//93y1twcmzZ8/Q0dEBVVUrxm6NjIzg+fPnMshZWVmpuc/t1tbWMDw8LPdBMBiEz+eTQZdZW1sbisXikW2GiIiO59QDJlTJaDTC3p1X75iV49rf35cnSafPVlUVnZ2d8v/JZFIGX+LkLJYdHBzE/v6+aemjxeNxAJAn4eMOCLYLBAIYHh7G4OAgVFXFgwcP8I//+I8V3Vu6riOTydSVwTErlUp49eqVfbIkxrxpmoZIJIJ33nlHBhLZbBZvv/22zNhlMhlLV2QsFsPs7Cw2NzeRSqUwODhY9zij/f19/OpXv0IkEoF2OIapWCyira0NOAx4fv3rX+Pp06dYX1/HwcEBcNgtWA/zGKZ4PI63335bBqWtra1wuVzI5/PQdR3FYrHumxR2dnaQSCRkOxLdd9V4PB5LUE5ERCfnTAIm+1Wv+ar+KKLrZGJiQp5kzVfup6GlpQUej6fpzxaDmcVJdHl5WY7HqYeiKFhcXJTLRqPREwuaxsfHLV1933zzjQwcBHtmsF4ejwfXr1+3T67KnNEzDscZTUxMyIzd48ePZTenGGd07949KIqC/v5+zM3NIZPJVHRP2SmKAp/Ph8nJSZmRMmfCPB4PfvKTn2BmZkZmfUqlElwu17EC/WAwiM7OThl4m7vL8vk8vF5vXdklQdxIYf6rlllr5jsTEdHRTj1g6u3tRT6fl2N7ROYiEonIH3aPx4P9/f2q3Qw47GqAQ/fRSUgkEnC5XHIsC5r8bJFZE+NxGskwmXk8Hty4ccM++ViDvu3EAHzzCbjaPqqXoihwuVx1dWUtLS1VbG9zl2c+n8df/vIXmeV59eqVpd6VlRX4fD7LdxRdfubHAoiAZXp6WmZ9zJ/d2tqKN998U44xE8FbX19fw+uPw4HXe3t7luxjKBTC8+fP8cknn1SMCVMUBV6vt+r4o4GBAcv3Psr29nZT2VwiIqrt1AOmQCCAR48eIRqNQlVVdHV1IRwOW07QYlyTuEtI3Akk7lYS08fGxnD37l25nG66k2xpaUl2XdTbTYPDE6fo7igWi5ifn4eiKI6f7WRkZASfffaZ7Eb5xS9+UXeGybxetbbZcdnr9vv9lnFCOAwcj5Ndgik4mZ2dregaMt/tpaoqVldX5fZWFAWpVAq5XE6WR6NRPHr0CIFAAIFAAKlUynInmXl/ORkfH8fExITsirR/9vz8PHDYBSrGT4nu1XqYxzBFo1FLtgqHbfzWrVtoaWmxBIjC5OSkZd1FG+7v75fdj6KsWpBsVBlET0REJ+fagRis8RpKp9PY2dmpCBioObqu486dO4jH4ycS5F0VsVgMfr+/oUCsXtlsFrOzs3UHkERE1JhTzzDR60dkDM2PaHjdZbNZ5HK5ugd7N0I8ekCM7yIiopPHgIlORX9/P8LhcMWdha8b0Q1ZrZvupDx8+BAfffRRQ49/ICKixrzWXXJERERE9WCGiYiIiMgBAyYiIiIiBwyYiIiIiBwwYCIiIiJycCkCJvGwRfN7xU5COp22PBHaLp1Oy4cFHjUfXTxO+5aap+s6hoaG+OgIInotNB0w2Z/efNTTiC8b8c61Rt4hR0czB6HmNmJ/WbH4E099b0Q2m0Umk7HsN3s7tQdT9ieg29uv/UXMjQbvtdYbVT67kSfVx2Ixy3rZ63ZSKBQwMDDQ0DKC2+1GX18fotFoQ9uCiOgyajpgEm+f39zcRHd3t3xR6Pr6+ok9c8btdmN9fR2Li4t8MN8lJgKZjY0NaJqGcDgsT7aK6WXD4m9ubg43btyQ75Krh67rmJqaQjwet7Q/0U5FWy0WizIwMQwD0WgU8XhczhMMBuUzpHRdx29+8xs8evRILg8ACwsLsv6j2Nc7GAzK9RafHQ6HoR2+aHl6erqhFy2HQqGq3/ssjI+Pw+v11r0tiIguq6YDJicic5DNZuXVsD1rYL/6N58sjuoWE10C2WxWXv3br/yPqlswX6VXK6/FXLd9nY5iGAYikQiy2azMLNgzA/asg3nds9kshoaG8B//8R9yvc3l9myNeZuk02n89re/RU9PD3p6evDHP/6xYnn7NquW8Wj0xb/ihbbhcFgGMqFQCOVyGbu7u/bZgcOX65rnr8fS0hKCweCRr2QRL7sVDMNAuVy2BGZ+v1/+W7zwV5Tblz9KtfUeGRnBixcvsLu7K1/UK54AHggEcPv27aov4q3HwMAAisUiDMOQ7cu8j8S058+fo6enB4ODg9ja2kJXV1fVdnxUZkwYGRnBkydPqpYREV0Vpx4wCaOjo/D7/dA0Dbdv38bDhw+Bw8Dgq6++smQVzK/UcOoW29vbw9TUFJ4+fYqNjQ3s7e0hl8sBddSNwxOs+F7VymsRr6NYXl6GpmlIpVIYGxura1kAKJfL8unP1TIDmUwGjx8/hqZp2NjYQC6XswRzz549w69//Ws8ffoUy8vLWF9flye6x48f4969ezWzIY8ePcK//Mu/wOfz4cmTJ/j000/x/Plz6LoOXdeRTCblemmadqLvPmtra5P/VhQFLpdLBiRmhUIBz58/b+hVIkadL6DVdR3Pnz9Hb28vYHoxrth/hUIB09PTsp7W1la4XC6ZFcpms/jss8/k8kcRwZiYV9d1jI2N4ZtvvkGpVML29jaCwaAMptLpNJaWlmTQ06iVlRX09fVBURR0dnYCAPL5vKU8GAzi1q1bWF9fx/LyMtrb22X2a2trSz4xPHtERtBMbB/z5xARXTVnFjCFQiF54jVfBbvdbkt2o7OzEy0tLVVPotW0tLTIV0643W4Eg0Fsb28DhydCp7rN36vaCaaWtbU1DA8Py5NLMBiEz+era1khlUrJ5c3bBIcZHHESta8XALzxxhtyvVtbW/Hmm2/K9Xr//fdlvYqioK+vDzs7O3LZ27dvy/JIJFLRzbm/v4+1tTXLNLtkMtlQt6v4HrOzs3IdFxYW8OzZM/uswOHrPt59992660eNTJGZyJZ0dXXh1q1blleJJJNJxONxdHV14e7du3j06JHMUonuwr6+PnR0dMgAvZFXkYisX1dXF+LxOEKhkGV/iqze6uoqPv30U5TL5YrApJalpSWZBSoWixgeHgYO2004HJbZKhEojoyM2GqobmVlxdK1WSsjKDJu5vUhIrpqzixgMl/19/f3W8YjmbvEurq6oGmaacnmNFK3oijw+Xz2yVXt7OwgkUjIujs6Omqe/Ou1t7cnT5L2brGlpSXLvJ2dnWhtbQVMJ3RxgrcPUG5kTIvb7cbMzAymp6eP7IY5DnEi7+jogKqqMAwD77zzTkWAUygUsL6+XlcGx6xUKuHVq1f2yZLIVmqaBr/fb+mqjMVimJ2dxebmJlKpFAYHBy1jnIaGhrCzsyMzLV1dXXV33+7v7+NXv/oVIpGIzCYWi0WZbVtaWpKfvbi4iG+//RYul6sikK3FPIapr68P77zzjtxnvb29MnuYz+crAsVaDMNAsVjE6OhoXceP3++3BOVERFfNmQVMtaTTaeRyOZn239jYgKqq9tmOpdG6nTIUdmKAu/nvqLEzTnw+HxRFQaFQQDQaxdzcnKy33q4p0eUzMTEhl63VnVlLIBDA1taWDA7u3LlzIkGTfWD38PBw1e398OFD9PT01HViN/N4PLh+/bp9clW9vb0yiyMCtHv37kFRFPT392Nubg6ZTAa6rstxRmI7jo+PY3Jy0pItq0UE4ZOTk7JtmNtZW1sbbt68iVQqJQOk7e1teL3eugMms1AoZMmimrvLVlZWHLsr7cxtULN12Znt7OxYxn0REV015x4wwRQoAEAikYBW4yr2OBqpe2lpCS6XS2ZujjIwMIDp6em6B3ofRT+8s0uMPQGA69evy0Aim81WZJiciOyFGI9zXOYxR2aNDvq203Udd+7cQSQSsXS7ieCl3m4jM+WIMVF2Dx8+xK1bt+Rnv3r1yrLcysqKpe385S9/keXG4Vgpe1AjspnmzJNy2BVpbivmdia6gc135GUymYYDG8HehhVFQSQSwf3791EulxEMBi3zezwe7O/vV3Qli+9dz5g+kY2q1VaIiK6Ccw+YQqEQ9vb2ZDfND37wA5kFEl0holtJjNWw3y1Xy1F1C+bxH6urq5ifn4eiKI6f3d/fL7tuxPKNBhCiu6OrqwvhcFiOpQoEAvIOJlVVMTs7i3feece+eFVi3Iqoe2xsDHfv3rXPVpO9K1AMTG9kLFEt5rrffvttzMzMWDJyhmHgwYMHx8ouocY4KcF8t5d62AaSySRwuL1TqZSl+6lYLMq20N/fj4mJCbk/Ojo64PV65fJOxsfHLcub25nb7cbjx4+Ry+VkW4jH4w1lKs1tOJPJWLJVOOy+vXbtGn7+859XZK3cbjfi8bhcd/NdcuPj47L7UdRvvwsVAHZ3d1Eul2XwR0R0FV07ODg4sE+k02UYBj788ENEIpGGTozkTGSuGg06rjJd1/HBBx/g448/PlYg6iQWi8Hv95/o3ZRERBfNuWeYiE6SyJjU05X0ukgkEnUP9m5UOp223JlHRHRVMWCiK6e/vx/hcLihuwOvIjGmqlgsIh6P24ubpus6VldXK7oAiYiuInbJERERETlghomIiIjIAQMmIiIiIgcMmIiIiIgcMGByoOs6enp6qj5/5rjEM56OerWG+ZUu4hUddDGk0+m6nwX2OisUCohEIid23BARnaemAybx3jLzCSSbzZ5ogHGUeoKPyyiZTDb0ShRyZn54ZaMPGRWy2SwymUzF62bMD+U0P/yxHiIorxUgH7due71qAw99FZo5lgOBAFwuF6ampuxFRESXTtMBEw5f41EsFo91Arro3G431tfXLS8LpstHBDrivYLBYBDRaLShQEC8wiYej1e8zuX+/ftYXl6GpmmYmJjA2NhYXceDYRiIRqMIh8PQNA3Ly8uYnp6WFwDN1C2I98FtbGwgl8ud6cVFPB5HsVg8088kIjoNJxYwvfXWWzXfdyayUNWucrPZLGKxmOXq336FXUssFkNHRweePXtmea2FWL5QKGBgYABff/21vNK2Xy2bP9d+9W4us1+Z1/O9j6obAEqlkvxejWY8jpst0XVdZuTEPrFvE/vrUcwnO5Fx+I//+A+5vHnb2LMaoswwDEQiEXzyySdyuuh2NNdvf4WJ/UQr6rfvj6MYhoHZ2VmEw2EZ6IyMjODFixfY3d21z17T0tISgsFgxRPE7S8LFllB+/vZqhEv9hXLBAIB3L59GysrK0CTddu53W4Eg0Fsb2/LzKy5zZqniWN2dHQUz549k68XMrc1Mb99X5uJd9lVe10NEdFlciIBEwC899572NnZqfhR1HUdY2NjSKVSlqtc8w/10tISdnZ2oGma5S3xTpLJJDY3N9Hd3W15q7r5FQ2apuG9997DzMwMNjY2sLe3h1wuBxwGVC6XSy43MTGBBw8eyHUYHx+HpmkV3S/CUd/bqW4AePDgAWZmZmTGo94HLdqzJeFwuKFsyd7eHqampvD06VNsbm4CABYWFoDD/fXVV1/J7z03N1fx1Oxnz57h17/+NZ4+fYrl5WWsr6/LYDCTyeDx48dVMxrlchn/+Z//iU8//RSfffYZ/H4/JicnZXBQKBTw5MkTuV6aplUEJ8dhGAbK5TJ6e3sBU5v85ptv6npRL0wv3LW/FNc4fPGsmC4yRi9fvsT29rZl3mq2t7cRDAZlIJdOp7G0tIRisYg///nPTdVtp+s6nj9/jt7eXvnevdXVVdludnd38eLFC/T29iIQCGBrawtzc3Po7u7G5uYmNE3D+vq6/K5TU1Pwer3QNA2bm5soFosVFw04fJdduVxuKDglIrpoTixgEj+iIhgRlpaW4PP55FvSxasrzD/U3d3d8knEnZ2daGlpqftEVo9UKoVAIGC5wsbh1fz7778v5+vt7UW5XK478Djqe9dTt/heADAwMIBcLldXoLiysmLpFgqFQg2dkFpaWuQLdcWJc2dnBzjcP+ZMgX29AOCNN96Qy7e2tuLNN9+U5bFYTH4v+/YGgEgkAkVRoKpq1fFZmqYdmT0RXaT1vvjWTGRExAtuQ6FQ3YGHCLo8Ho+9SBIZz76+PkxOTsptWg+R1VtdXcWnn35a0Vaaqdv8kud3333Xkq0yt5u1tbW6X3ys6zqKxaK8mBCZJPNxLSiKApfLdaLHNBHRWTuxgAmH3RxffPGFfTK8Xu+xx//Yu/Ma6X4CAFVVLW9RTyaTMgMlTqCi7sHBQezv75uWPr5G6/Z4PGhpabFPriAyGuYuyK6uLmiaZp+1IcViUZ7oRFdZrbo7OzvR2toKHJ4MFxcXZSbI3p1Xq5u2mkAggFQqJdfN3lXYjP39ffzqV79CJBKRGb1isYi2tjb7rFWVSiW8evXKPlkaHR2F3++Hdpjh3NnZgd/vt89W1dLSEmZnZ7G5uYnFxUV8++23cLlc8phppm6YxjBtbm5idXVVBsRutxu3bt3C2toaDMPAf//3f2NkZMS+eFWlUgn5fB5dXV1yX4+OjtpnAw7biNfrrTs4JSK6iE40YGptbcXLly/x5ZdfWqabT8Y47Iaol+gaEF005i6BZom7d0R3w/Lycl1BSz0arbtUKllOkk7MXZCapmFra6uuzEAtIqhNp9PI5XKyW2xjYwOqqtpnr6pQKCAajVq+W7Us0lH6+/vlsl6vFx9++GHTQZOiKPD5fJicnJSBXT0ZIzOPx4Pr16/bJ8tgIBQKWQLxeoOxtrY23Lx50/I+tu3tbXi9XvzoRz9qqm47kQUyH48DAwNYXV2VXaoiEK6HqqqW7lNN06reHNHMdyYiuihONGBSFKXiFv/e3l7k83nZVafrOjKZjOyaaZY4YYlxMI0SgYJhGHjw4MGRWaBG1Vu3cTgoua+vz3GbKIddaPZxRcdVKBQwPT1tGZvj8/nk90gkEtAayF5dv35dBiHZbLahDJNdtSzKcQZ9i202PT0tA4OlpSW4XK66AwTliG6lgYEBLC0tyXYvBnKbM5si42gf/C/mEePXxPEh9kc9dderWjsTXeX//M//jKGhoYr25/F4qg6Ob21thcvlqmvcXaPBKRHRRXSiARNMAzyFQCCAR48eIRqNyi6ecDh8IoN5hcnJSeRyOdk1UG3gaTUjIyP47LPPoKoqOjo68Itf/EJmgcQJTlVVJBIJLC0tQa1xJ1A1R9UtiK4nMTZFZBFEUCC6tBKJhGW9xsfHEQ6HLd0hjXRf7e/vY3BwEOphV2EqlZL7IxQKYW9vT94V9YMf/KDuDFMgEEBPT4+se3Z2Fu+88459tprsd8hlMhlL5qUZ4+PjmJiYkN9tdXUV8/Pzddctgq5qd3v19/djbm5O7s+pqSk8fvy4rkyo2+3G48ePZfsV46vE/mimbsHczrxer+WmCLFe5XK5ahAWCAQwPDwst5voElcUBfPz8ygWi5Z9Vu3Yy+fzDQWnREQX0bWDg4MD+0S6unRdxwcffICPP/64qS6815Gu67hz544loLkK0uk0dnZ2jjWQ3olhGPjwww8RiUSu1DYjotfPiWeYiK4qcYfnSXWHXgSFQgELCwt1D/ZulHj0AIMlIrrsGDARNaC/vx/hcLiusTsXmbj7dHBwEB999NGpZBsLhQLK5bJ89AYR0WXGLjkiIiIiB8wwERERETlgwERERETkgAETERERkQMGTEREREQOGDAREREROWDAREREROSAARMRERGRAwZMRERERA4YMBERERE5YMBERERE5IABExEREZEDBkxEREREDhgwERERETlgwERERETkgAETERERkYNrBwcHB/aJ9dJ1HXfu3MHLly/tRQCAX/7yl8jlcvjuu+/sRQCAt99+G0+fPrVPBgB873vfww9/+EP8+c9/thcBTdb9xhtvIBgM4k9/+pO9CADg8XgAAKVSyV4EAPjpT3+Kr7/+2j4ZOIG6ndbrqM9utu5mttmPfvQj/PWvf8Xf//53exHQZN3Nrhe3WaWjtkmzdTezzXjcN75e57nNzrMNO63XUfur2bqbWa+LvM0mJycxPj5un0yHmgqYiIiIiF4H7JIjIiIicsCAiYiIiMgBAyYiIiIiBwyYiIiIiBwwYCIiIiJywICJiIiIyAEDJiIiIiIHDJiIiIiIHPx/eOkMRvAgJ78AAAAASUVORK5CYII=)"
      ],
      "metadata": {
        "id": "qKVIWquVVO58"
      }
    },
    {
      "cell_type": "markdown",
      "metadata": {
        "id": "nRqWGIRo6q61"
      },
      "source": [
        "### Step 2: Compile and fit the model using the `binary_crossentropy` loss function, the `adam` optimizer, and the `accuracy` evaluation metric.\n"
      ]
    },
    {
      "cell_type": "code",
      "execution_count": 110,
      "metadata": {
        "id": "E-hZaeSn6q61"
      },
      "outputs": [],
      "source": [
        "# Compile the Sequential model\n",
        "model.compile(loss=\"binary_crossentropy\", optimizer=\"adam\", metrics=[\"accuracy\"])"
      ]
    },
    {
      "cell_type": "code",
      "execution_count": 111,
      "metadata": {
        "colab": {
          "base_uri": "https://localhost:8080/"
        },
        "id": "x25e8Idc6q61",
        "outputId": "4530b629-fd01-44d5-e8d0-4a6eb1fe1c2c"
      },
      "outputs": [
        {
          "output_type": "stream",
          "name": "stdout",
          "text": [
            "Epoch 1/50\n",
            "\u001b[1m38/38\u001b[0m \u001b[32m━━━━━━━━━━━━━━━━━━━━\u001b[0m\u001b[37m\u001b[0m \u001b[1m1s\u001b[0m 2ms/step - accuracy: 0.4846 - loss: 0.7198\n",
            "Epoch 2/50\n",
            "\u001b[1m38/38\u001b[0m \u001b[32m━━━━━━━━━━━━━━━━━━━━\u001b[0m\u001b[37m\u001b[0m \u001b[1m0s\u001b[0m 2ms/step - accuracy: 0.5109 - loss: 0.6953\n",
            "Epoch 3/50\n",
            "\u001b[1m38/38\u001b[0m \u001b[32m━━━━━━━━━━━━━━━━━━━━\u001b[0m\u001b[37m\u001b[0m \u001b[1m0s\u001b[0m 2ms/step - accuracy: 0.5804 - loss: 0.6700\n",
            "Epoch 4/50\n",
            "\u001b[1m38/38\u001b[0m \u001b[32m━━━━━━━━━━━━━━━━━━━━\u001b[0m\u001b[37m\u001b[0m \u001b[1m0s\u001b[0m 2ms/step - accuracy: 0.6454 - loss: 0.6468\n",
            "Epoch 5/50\n",
            "\u001b[1m38/38\u001b[0m \u001b[32m━━━━━━━━━━━━━━━━━━━━\u001b[0m\u001b[37m\u001b[0m \u001b[1m0s\u001b[0m 2ms/step - accuracy: 0.6491 - loss: 0.6404\n",
            "Epoch 6/50\n",
            "\u001b[1m38/38\u001b[0m \u001b[32m━━━━━━━━━━━━━━━━━━━━\u001b[0m\u001b[37m\u001b[0m \u001b[1m0s\u001b[0m 2ms/step - accuracy: 0.6934 - loss: 0.6073\n",
            "Epoch 7/50\n",
            "\u001b[1m38/38\u001b[0m \u001b[32m━━━━━━━━━━━━━━━━━━━━\u001b[0m\u001b[37m\u001b[0m \u001b[1m0s\u001b[0m 2ms/step - accuracy: 0.7274 - loss: 0.6075\n",
            "Epoch 8/50\n",
            "\u001b[1m38/38\u001b[0m \u001b[32m━━━━━━━━━━━━━━━━━━━━\u001b[0m\u001b[37m\u001b[0m \u001b[1m0s\u001b[0m 2ms/step - accuracy: 0.7436 - loss: 0.5823\n",
            "Epoch 9/50\n",
            "\u001b[1m38/38\u001b[0m \u001b[32m━━━━━━━━━━━━━━━━━━━━\u001b[0m\u001b[37m\u001b[0m \u001b[1m0s\u001b[0m 2ms/step - accuracy: 0.7114 - loss: 0.5927\n",
            "Epoch 10/50\n",
            "\u001b[1m38/38\u001b[0m \u001b[32m━━━━━━━━━━━━━━━━━━━━\u001b[0m\u001b[37m\u001b[0m \u001b[1m0s\u001b[0m 2ms/step - accuracy: 0.7278 - loss: 0.5749\n",
            "Epoch 11/50\n",
            "\u001b[1m38/38\u001b[0m \u001b[32m━━━━━━━━━━━━━━━━━━━━\u001b[0m\u001b[37m\u001b[0m \u001b[1m0s\u001b[0m 2ms/step - accuracy: 0.7299 - loss: 0.5757\n",
            "Epoch 12/50\n",
            "\u001b[1m38/38\u001b[0m \u001b[32m━━━━━━━━━━━━━━━━━━━━\u001b[0m\u001b[37m\u001b[0m \u001b[1m0s\u001b[0m 2ms/step - accuracy: 0.7464 - loss: 0.5773\n",
            "Epoch 13/50\n",
            "\u001b[1m38/38\u001b[0m \u001b[32m━━━━━━━━━━━━━━━━━━━━\u001b[0m\u001b[37m\u001b[0m \u001b[1m0s\u001b[0m 2ms/step - accuracy: 0.7418 - loss: 0.5710\n",
            "Epoch 14/50\n",
            "\u001b[1m38/38\u001b[0m \u001b[32m━━━━━━━━━━━━━━━━━━━━\u001b[0m\u001b[37m\u001b[0m \u001b[1m0s\u001b[0m 2ms/step - accuracy: 0.7516 - loss: 0.5541\n",
            "Epoch 15/50\n",
            "\u001b[1m38/38\u001b[0m \u001b[32m━━━━━━━━━━━━━━━━━━━━\u001b[0m\u001b[37m\u001b[0m \u001b[1m0s\u001b[0m 2ms/step - accuracy: 0.7551 - loss: 0.5518\n",
            "Epoch 16/50\n",
            "\u001b[1m38/38\u001b[0m \u001b[32m━━━━━━━━━━━━━━━━━━━━\u001b[0m\u001b[37m\u001b[0m \u001b[1m0s\u001b[0m 2ms/step - accuracy: 0.7445 - loss: 0.5628\n",
            "Epoch 17/50\n",
            "\u001b[1m38/38\u001b[0m \u001b[32m━━━━━━━━━━━━━━━━━━━━\u001b[0m\u001b[37m\u001b[0m \u001b[1m0s\u001b[0m 2ms/step - accuracy: 0.7456 - loss: 0.5648\n",
            "Epoch 18/50\n",
            "\u001b[1m38/38\u001b[0m \u001b[32m━━━━━━━━━━━━━━━━━━━━\u001b[0m\u001b[37m\u001b[0m \u001b[1m0s\u001b[0m 2ms/step - accuracy: 0.7513 - loss: 0.5513\n",
            "Epoch 19/50\n",
            "\u001b[1m38/38\u001b[0m \u001b[32m━━━━━━━━━━━━━━━━━━━━\u001b[0m\u001b[37m\u001b[0m \u001b[1m0s\u001b[0m 2ms/step - accuracy: 0.7543 - loss: 0.5546\n",
            "Epoch 20/50\n",
            "\u001b[1m38/38\u001b[0m \u001b[32m━━━━━━━━━━━━━━━━━━━━\u001b[0m\u001b[37m\u001b[0m \u001b[1m0s\u001b[0m 3ms/step - accuracy: 0.7558 - loss: 0.5346\n",
            "Epoch 21/50\n",
            "\u001b[1m38/38\u001b[0m \u001b[32m━━━━━━━━━━━━━━━━━━━━\u001b[0m\u001b[37m\u001b[0m \u001b[1m0s\u001b[0m 2ms/step - accuracy: 0.7563 - loss: 0.5536\n",
            "Epoch 22/50\n",
            "\u001b[1m38/38\u001b[0m \u001b[32m━━━━━━━━━━━━━━━━━━━━\u001b[0m\u001b[37m\u001b[0m \u001b[1m0s\u001b[0m 2ms/step - accuracy: 0.7528 - loss: 0.5465\n",
            "Epoch 23/50\n",
            "\u001b[1m38/38\u001b[0m \u001b[32m━━━━━━━━━━━━━━━━━━━━\u001b[0m\u001b[37m\u001b[0m \u001b[1m0s\u001b[0m 2ms/step - accuracy: 0.7624 - loss: 0.5306\n",
            "Epoch 24/50\n",
            "\u001b[1m38/38\u001b[0m \u001b[32m━━━━━━━━━━━━━━━━━━━━\u001b[0m\u001b[37m\u001b[0m \u001b[1m0s\u001b[0m 2ms/step - accuracy: 0.7552 - loss: 0.5359\n",
            "Epoch 25/50\n",
            "\u001b[1m38/38\u001b[0m \u001b[32m━━━━━━━━━━━━━━━━━━━━\u001b[0m\u001b[37m\u001b[0m \u001b[1m0s\u001b[0m 2ms/step - accuracy: 0.7538 - loss: 0.5382\n",
            "Epoch 26/50\n",
            "\u001b[1m38/38\u001b[0m \u001b[32m━━━━━━━━━━━━━━━━━━━━\u001b[0m\u001b[37m\u001b[0m \u001b[1m0s\u001b[0m 2ms/step - accuracy: 0.7594 - loss: 0.5247\n",
            "Epoch 27/50\n",
            "\u001b[1m38/38\u001b[0m \u001b[32m━━━━━━━━━━━━━━━━━━━━\u001b[0m\u001b[37m\u001b[0m \u001b[1m0s\u001b[0m 2ms/step - accuracy: 0.7672 - loss: 0.5244\n",
            "Epoch 28/50\n",
            "\u001b[1m38/38\u001b[0m \u001b[32m━━━━━━━━━━━━━━━━━━━━\u001b[0m\u001b[37m\u001b[0m \u001b[1m0s\u001b[0m 2ms/step - accuracy: 0.7579 - loss: 0.5336\n",
            "Epoch 29/50\n",
            "\u001b[1m38/38\u001b[0m \u001b[32m━━━━━━━━━━━━━━━━━━━━\u001b[0m\u001b[37m\u001b[0m \u001b[1m0s\u001b[0m 2ms/step - accuracy: 0.7660 - loss: 0.5291\n",
            "Epoch 30/50\n",
            "\u001b[1m38/38\u001b[0m \u001b[32m━━━━━━━━━━━━━━━━━━━━\u001b[0m\u001b[37m\u001b[0m \u001b[1m0s\u001b[0m 2ms/step - accuracy: 0.7436 - loss: 0.5406\n",
            "Epoch 31/50\n",
            "\u001b[1m38/38\u001b[0m \u001b[32m━━━━━━━━━━━━━━━━━━━━\u001b[0m\u001b[37m\u001b[0m \u001b[1m0s\u001b[0m 2ms/step - accuracy: 0.7710 - loss: 0.5233\n",
            "Epoch 32/50\n",
            "\u001b[1m38/38\u001b[0m \u001b[32m━━━━━━━━━━━━━━━━━━━━\u001b[0m\u001b[37m\u001b[0m \u001b[1m0s\u001b[0m 2ms/step - accuracy: 0.7714 - loss: 0.5210\n",
            "Epoch 33/50\n",
            "\u001b[1m38/38\u001b[0m \u001b[32m━━━━━━━━━━━━━━━━━━━━\u001b[0m\u001b[37m\u001b[0m \u001b[1m0s\u001b[0m 2ms/step - accuracy: 0.7532 - loss: 0.5319\n",
            "Epoch 34/50\n",
            "\u001b[1m38/38\u001b[0m \u001b[32m━━━━━━━━━━━━━━━━━━━━\u001b[0m\u001b[37m\u001b[0m \u001b[1m0s\u001b[0m 2ms/step - accuracy: 0.7541 - loss: 0.5315\n",
            "Epoch 35/50\n",
            "\u001b[1m38/38\u001b[0m \u001b[32m━━━━━━━━━━━━━━━━━━━━\u001b[0m\u001b[37m\u001b[0m \u001b[1m0s\u001b[0m 2ms/step - accuracy: 0.7640 - loss: 0.5295\n",
            "Epoch 36/50\n",
            "\u001b[1m38/38\u001b[0m \u001b[32m━━━━━━━━━━━━━━━━━━━━\u001b[0m\u001b[37m\u001b[0m \u001b[1m0s\u001b[0m 2ms/step - accuracy: 0.7631 - loss: 0.5257\n",
            "Epoch 37/50\n",
            "\u001b[1m38/38\u001b[0m \u001b[32m━━━━━━━━━━━━━━━━━━━━\u001b[0m\u001b[37m\u001b[0m \u001b[1m0s\u001b[0m 2ms/step - accuracy: 0.7782 - loss: 0.5242\n",
            "Epoch 38/50\n",
            "\u001b[1m38/38\u001b[0m \u001b[32m━━━━━━━━━━━━━━━━━━━━\u001b[0m\u001b[37m\u001b[0m \u001b[1m0s\u001b[0m 2ms/step - accuracy: 0.7603 - loss: 0.5240\n",
            "Epoch 39/50\n",
            "\u001b[1m38/38\u001b[0m \u001b[32m━━━━━━━━━━━━━━━━━━━━\u001b[0m\u001b[37m\u001b[0m \u001b[1m0s\u001b[0m 2ms/step - accuracy: 0.7866 - loss: 0.4972\n",
            "Epoch 40/50\n",
            "\u001b[1m38/38\u001b[0m \u001b[32m━━━━━━━━━━━━━━━━━━━━\u001b[0m\u001b[37m\u001b[0m \u001b[1m0s\u001b[0m 2ms/step - accuracy: 0.7737 - loss: 0.5098\n",
            "Epoch 41/50\n",
            "\u001b[1m38/38\u001b[0m \u001b[32m━━━━━━━━━━━━━━━━━━━━\u001b[0m\u001b[37m\u001b[0m \u001b[1m0s\u001b[0m 2ms/step - accuracy: 0.7532 - loss: 0.5236\n",
            "Epoch 42/50\n",
            "\u001b[1m38/38\u001b[0m \u001b[32m━━━━━━━━━━━━━━━━━━━━\u001b[0m\u001b[37m\u001b[0m \u001b[1m0s\u001b[0m 2ms/step - accuracy: 0.7775 - loss: 0.5110\n",
            "Epoch 43/50\n",
            "\u001b[1m38/38\u001b[0m \u001b[32m━━━━━━━━━━━━━━━━━━━━\u001b[0m\u001b[37m\u001b[0m \u001b[1m0s\u001b[0m 2ms/step - accuracy: 0.7757 - loss: 0.5151\n",
            "Epoch 44/50\n",
            "\u001b[1m38/38\u001b[0m \u001b[32m━━━━━━━━━━━━━━━━━━━━\u001b[0m\u001b[37m\u001b[0m \u001b[1m0s\u001b[0m 3ms/step - accuracy: 0.7683 - loss: 0.5062\n",
            "Epoch 45/50\n",
            "\u001b[1m38/38\u001b[0m \u001b[32m━━━━━━━━━━━━━━━━━━━━\u001b[0m\u001b[37m\u001b[0m \u001b[1m0s\u001b[0m 2ms/step - accuracy: 0.7645 - loss: 0.5184\n",
            "Epoch 46/50\n",
            "\u001b[1m38/38\u001b[0m \u001b[32m━━━━━━━━━━━━━━━━━━━━\u001b[0m\u001b[37m\u001b[0m \u001b[1m0s\u001b[0m 2ms/step - accuracy: 0.7592 - loss: 0.5302\n",
            "Epoch 47/50\n",
            "\u001b[1m38/38\u001b[0m \u001b[32m━━━━━━━━━━━━━━━━━━━━\u001b[0m\u001b[37m\u001b[0m \u001b[1m0s\u001b[0m 2ms/step - accuracy: 0.7562 - loss: 0.5217\n",
            "Epoch 48/50\n",
            "\u001b[1m38/38\u001b[0m \u001b[32m━━━━━━━━━━━━━━━━━━━━\u001b[0m\u001b[37m\u001b[0m \u001b[1m0s\u001b[0m 2ms/step - accuracy: 0.7835 - loss: 0.4846\n",
            "Epoch 49/50\n",
            "\u001b[1m38/38\u001b[0m \u001b[32m━━━━━━━━━━━━━━━━━━━━\u001b[0m\u001b[37m\u001b[0m \u001b[1m0s\u001b[0m 2ms/step - accuracy: 0.7462 - loss: 0.5385\n",
            "Epoch 50/50\n",
            "\u001b[1m38/38\u001b[0m \u001b[32m━━━━━━━━━━━━━━━━━━━━\u001b[0m\u001b[37m\u001b[0m \u001b[1m0s\u001b[0m 2ms/step - accuracy: 0.7591 - loss: 0.5135\n"
          ]
        }
      ],
      "source": [
        "# Fit the model using 50 epochs and the training data\n",
        "history = model.fit(X_train_scaled, y_train, epochs=50, verbose=1)"
      ]
    },
    {
      "cell_type": "markdown",
      "metadata": {
        "id": "RfHMPZVI6q61"
      },
      "source": [
        "### Step 3: Evaluate the model using the test data to determine the model’s loss and accuracy.\n"
      ]
    },
    {
      "cell_type": "code",
      "execution_count": 112,
      "metadata": {
        "colab": {
          "base_uri": "https://localhost:8080/"
        },
        "id": "5hfVADKo6q61",
        "outputId": "150503ca-1c58-4d86-a82f-2af514f52a58"
      },
      "outputs": [
        {
          "output_type": "stream",
          "name": "stdout",
          "text": [
            "13/13 - 0s - 14ms/step - accuracy: 0.7475 - loss: 0.5392\n",
            "Loss: 0.5392004251480103, Accuracy: 0.7475000023841858\n"
          ]
        }
      ],
      "source": [
        "# Evaluate the model loss and accuracy metrics using the evaluate method and the test data\n",
        "model_loss, model_accuracy = model.evaluate(X_test_scaled, y_test, verbose=2)\n",
        "\n",
        "# Display the model loss and accuracy results\n",
        "print(f\"Loss: {model_loss}, Accuracy: {model_accuracy}\")"
      ]
    },
    {
      "cell_type": "markdown",
      "source": [
        "![image.png](data:image/png;base64,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)"
      ],
      "metadata": {
        "id": "Chnw0DmYdQsz"
      }
    },
    {
      "cell_type": "markdown",
      "metadata": {
        "id": "jpAv0rXA6q61"
      },
      "source": [
        "### Step 4: Save and export your model to a keras file, and name the file `student_loans.keras`.\n"
      ]
    },
    {
      "cell_type": "code",
      "execution_count": 113,
      "metadata": {
        "id": "q0MetN0W6q61"
      },
      "outputs": [],
      "source": [
        "# Set the model's file path\n",
        "model_file_path = \"/content/student_loans.keras\"\n",
        "\n",
        "# Export your model to a keras file\n",
        "model.save(model_file_path)"
      ]
    },
    {
      "cell_type": "markdown",
      "metadata": {
        "id": "R1opCDdN6q61"
      },
      "source": [
        "---\n",
        "## Predict Loan Repayment Success by Using your Neural Network Model"
      ]
    },
    {
      "cell_type": "markdown",
      "metadata": {
        "id": "TfIfpeiy6q61"
      },
      "source": [
        "### Step 1: Reload your saved model."
      ]
    },
    {
      "cell_type": "code",
      "execution_count": 114,
      "metadata": {
        "id": "OCET2mvW6q61"
      },
      "outputs": [],
      "source": [
        "# Set the model's file path\n",
        "model_file_path = \"/content/student_loans.keras\"\n",
        "\n",
        "# Load the model to a new object\n",
        "loaded_model = load_model(model_file_path)"
      ]
    },
    {
      "cell_type": "markdown",
      "metadata": {
        "id": "rTPKooGw6q61"
      },
      "source": [
        "### Step 2: Make predictions on the testing data and save the predictions to a DataFrame."
      ]
    },
    {
      "cell_type": "code",
      "execution_count": 115,
      "metadata": {
        "colab": {
          "base_uri": "https://localhost:8080/"
        },
        "id": "Vet7qjgx6q62",
        "outputId": "e7bcb411-9a42-4f45-fef6-db69227b351d"
      },
      "outputs": [
        {
          "output_type": "stream",
          "name": "stdout",
          "text": [
            "\u001b[1m13/13\u001b[0m \u001b[32m━━━━━━━━━━━━━━━━━━━━\u001b[0m\u001b[37m\u001b[0m \u001b[1m0s\u001b[0m 5ms/step \n"
          ]
        },
        {
          "output_type": "execute_result",
          "data": {
            "text/plain": [
              "array([[0.43978077],\n",
              "       [0.30515406],\n",
              "       [0.40628502],\n",
              "       [0.7088857 ],\n",
              "       [0.95491093]], dtype=float32)"
            ]
          },
          "metadata": {},
          "execution_count": 115
        }
      ],
      "source": [
        "# Make predictions with the test data\n",
        "predictions_df = loaded_model.predict(X_test_scaled)\n",
        "\n",
        "# Display a sample of the predictions\n",
        "predictions_df[:5]"
      ]
    },
    {
      "cell_type": "markdown",
      "source": [
        "![image.png](data:image/png;base64,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)"
      ],
      "metadata": {
        "id": "fYXG38Mv11hX"
      }
    },
    {
      "cell_type": "code",
      "execution_count": 116,
      "metadata": {
        "id": "87o8exFPhjfl"
      },
      "outputs": [],
      "source": [
        "# Save the predictions to a DataFrame and round the predictions to binary results\n",
        "predictions_df = pd.DataFrame((predictions_df > 0.5).astype(int), columns=[\"predictions\"])\n"
      ]
    },
    {
      "cell_type": "markdown",
      "source": [
        "![image.png](data:image/png;base64,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)"
      ],
      "metadata": {
        "id": "QbmxwE7X7YdP"
      }
    },
    {
      "cell_type": "markdown",
      "metadata": {
        "id": "oxxLwycg6q62"
      },
      "source": [
        "### Step 4: Display a classification report with the y test data and predictions"
      ]
    },
    {
      "cell_type": "code",
      "execution_count": 117,
      "metadata": {
        "colab": {
          "base_uri": "https://localhost:8080/"
        },
        "id": "UTxYZibW6q67",
        "outputId": "8316d2ba-d126-49f1-8956-ec4b523dc466"
      },
      "outputs": [
        {
          "output_type": "stream",
          "name": "stdout",
          "text": [
            "              precision    recall  f1-score   support\n",
            "\n",
            "           0       0.70      0.81      0.75       188\n",
            "           1       0.80      0.69      0.74       212\n",
            "\n",
            "    accuracy                           0.75       400\n",
            "   macro avg       0.75      0.75      0.75       400\n",
            "weighted avg       0.75      0.75      0.75       400\n",
            "\n"
          ]
        }
      ],
      "source": [
        "# Print the classification report with the y test data and predictions\n",
        "print(classification_report(y_test, predictions_df))"
      ]
    },
    {
      "cell_type": "markdown",
      "source": [
        "![image.png](data:image/png;base64,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)"
      ],
      "metadata": {
        "id": "KnW3Vz4bAqdN"
      }
    },
    {
      "cell_type": "markdown",
      "metadata": {
        "id": "8Aaof1tBtcp6"
      },
      "source": [
        "---\n",
        "## Discuss creating a recommendation system for student loans"
      ]
    },
    {
      "cell_type": "markdown",
      "metadata": {
        "id": "_CC8cNpNtcp6"
      },
      "source": [
        "Briefly answer the following questions in the space provided:\n",
        "\n",
        "1. Describe the data that you would need to collect to build a recommendation system to recommend student loan options for students. Explain why this data would be relevant and appropriate.\n",
        "\n",
        "2. Based on the data you chose to use in this recommendation system, would your model be using collaborative filtering, content-based filtering, or context-based filtering? Justify why the data you selected would be suitable for your choice of filtering method.\n",
        "\n",
        "3. Describe two real-world challenges that you would take into consideration while building a recommendation system for student loans. Explain why these challenges would be of concern for a student loan recommendation system."
      ]
    },
    {
      "cell_type": "markdown",
      "metadata": {
        "id": "5KqIT8kYtcp6"
      },
      "source": [
        "1. The data needed would be student demographic and academic information like, age, GPA, household income, employment status, loan amount, and interest rate.  This is relevant because you'll be able to taylor the loan, that the student can get a loan they can repay and it ensures that recommendations follow lender guidelines.\n",
        "\n",
        "2. The best recommendation system would be context based filtering. This is because CBF makes recommendations based on student specific attributes and financial context.\n",
        "\n",
        "3. Two challenges would be data privacy and security. These would be a concern because of the sensitive information gathered on the student.\n",
        "\n"
      ]
    }
  ],
  "metadata": {
    "colab": {
      "provenance": []
    },
    "kernelspec": {
      "display_name": "Python 3 (ipykernel)",
      "language": "python",
      "name": "python3"
    },
    "language_info": {
      "codemirror_mode": {
        "name": "ipython",
        "version": 3
      },
      "file_extension": ".py",
      "mimetype": "text/x-python",
      "name": "python",
      "nbconvert_exporter": "python",
      "pygments_lexer": "ipython3",
      "version": "3.10.10"
    }
  },
  "nbformat": 4,
  "nbformat_minor": 0
}